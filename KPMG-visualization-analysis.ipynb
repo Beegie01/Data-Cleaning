{
 "cells": [
  {
   "cell_type": "code",
   "execution_count": 1,
   "metadata": {},
   "outputs": [],
   "source": [
    "import joblib, numpy as np, pandas as pd, matplotlib.pyplot as plt, seaborn as sns"
   ]
  },
  {
   "cell_type": "code",
   "execution_count": 2,
   "metadata": {},
   "outputs": [
    {
     "name": "stdout",
     "output_type": "stream",
     "text": [
      "Package imported!\n"
     ]
    }
   ],
   "source": [
    "my_package = 'C:\\\\Users\\\\welcome\\\\Desktop\\\\MyFuncs'\n",
    "imp_mods = joblib.os.sys.path\n",
    "\n",
    "if my_package not in imp_mods:\n",
    "    imp_mods.append(my_package)\n",
    "    print('Package imported!')"
   ]
  },
  {
   "cell_type": "code",
   "execution_count": 3,
   "metadata": {},
   "outputs": [],
   "source": [
    "import myio_funcs as mf, ds_funcs as dsf"
   ]
  },
  {
   "cell_type": "code",
   "execution_count": 4,
   "metadata": {},
   "outputs": [],
   "source": [
    "# joblib.os.listdir(\"W:\\\\Analyst & Business Skillset\\\\Data analysis\\\\Datasets\\\\KPMG Raw Datasets\")"
   ]
  },
  {
   "cell_type": "code",
   "execution_count": 5,
   "metadata": {},
   "outputs": [
    {
     "data": {
      "text/plain": [
       "dict_keys(['cleaned-KPMG-cust-trans.csv', 'KPMG_VI_Customer_Address.csv', 'KPMG_VI_Customer_Demographic.csv', 'KPMG_VI_New_Customer_List.csv', 'KPMG_VI_Transactions (Oct-Nov-Dec).csv', 'KPMG_VI_Transactions.csv', 'KPMG_VI_Transactions2.csv'])"
      ]
     },
     "execution_count": 5,
     "metadata": {},
     "output_type": "execute_result"
    }
   ],
   "source": [
    "pth = \"C:\\\\Users\\\\welcome\\\\Documents\\\\Data science\"\n",
    "kpmg_pth = \"W:\\\\Analyst & Business Skillset\\\\Data analysis\\\\Datasets\\\\KPMG Raw Datasets\"\n",
    "sf = mf.file_search(kpmg_pth, 'KPMG', 'csv')\n",
    "sf.keys()"
   ]
  },
  {
   "cell_type": "code",
   "execution_count": 6,
   "metadata": {},
   "outputs": [
    {
     "data": {
      "text/html": [
       "<div>\n",
       "<style scoped>\n",
       "    .dataframe tbody tr th:only-of-type {\n",
       "        vertical-align: middle;\n",
       "    }\n",
       "\n",
       "    .dataframe tbody tr th {\n",
       "        vertical-align: top;\n",
       "    }\n",
       "\n",
       "    .dataframe thead th {\n",
       "        text-align: right;\n",
       "    }\n",
       "</style>\n",
       "<table border=\"1\" class=\"dataframe\">\n",
       "  <thead>\n",
       "    <tr style=\"text-align: right;\">\n",
       "      <th></th>\n",
       "      <th>customer_id</th>\n",
       "      <th>first_name</th>\n",
       "      <th>last_name</th>\n",
       "      <th>gender</th>\n",
       "      <th>address</th>\n",
       "      <th>postcode</th>\n",
       "      <th>state</th>\n",
       "      <th>DOB</th>\n",
       "      <th>job_title</th>\n",
       "      <th>job_industry_category</th>\n",
       "      <th>...</th>\n",
       "      <th>product_class</th>\n",
       "      <th>product_size</th>\n",
       "      <th>list_price</th>\n",
       "      <th>standard_cost</th>\n",
       "      <th>product_first_sold_date</th>\n",
       "      <th>trans_week_day</th>\n",
       "      <th>trans_day_num</th>\n",
       "      <th>trans_month_num</th>\n",
       "      <th>trans_month</th>\n",
       "      <th>trans_year</th>\n",
       "    </tr>\n",
       "  </thead>\n",
       "  <tbody>\n",
       "    <tr>\n",
       "      <th>0</th>\n",
       "      <td>2950</td>\n",
       "      <td>Kristos</td>\n",
       "      <td>Anthony</td>\n",
       "      <td>Male</td>\n",
       "      <td>984 Hoepker Court</td>\n",
       "      <td>3064</td>\n",
       "      <td>Victoria</td>\n",
       "      <td>1955-01-11</td>\n",
       "      <td>Software Engineer I</td>\n",
       "      <td>Financial Services</td>\n",
       "      <td>...</td>\n",
       "      <td>medium</td>\n",
       "      <td>medium</td>\n",
       "      <td>71.49</td>\n",
       "      <td>53.62</td>\n",
       "      <td>2012-12-02</td>\n",
       "      <td>Saturday</td>\n",
       "      <td>25</td>\n",
       "      <td>2</td>\n",
       "      <td>February</td>\n",
       "      <td>2017</td>\n",
       "    </tr>\n",
       "    <tr>\n",
       "      <th>1</th>\n",
       "      <td>3120</td>\n",
       "      <td>Lauree</td>\n",
       "      <td>O'Donnell</td>\n",
       "      <td>Female</td>\n",
       "      <td>4 Shopko Circle</td>\n",
       "      <td>2196</td>\n",
       "      <td>New South Wales</td>\n",
       "      <td>1979-02-04</td>\n",
       "      <td>Clinical Specialist</td>\n",
       "      <td>Health</td>\n",
       "      <td>...</td>\n",
       "      <td>medium</td>\n",
       "      <td>large</td>\n",
       "      <td>2091.47</td>\n",
       "      <td>388.92</td>\n",
       "      <td>2014-03-03</td>\n",
       "      <td>Sunday</td>\n",
       "      <td>21</td>\n",
       "      <td>5</td>\n",
       "      <td>May</td>\n",
       "      <td>2017</td>\n",
       "    </tr>\n",
       "    <tr>\n",
       "      <th>2</th>\n",
       "      <td>402</td>\n",
       "      <td>Berne</td>\n",
       "      <td>Donegan</td>\n",
       "      <td>Male</td>\n",
       "      <td>586 Miller Parkway</td>\n",
       "      <td>2835</td>\n",
       "      <td>New South Wales</td>\n",
       "      <td>1977-06-03</td>\n",
       "      <td>Desktop Support Technician</td>\n",
       "      <td>Retail</td>\n",
       "      <td>...</td>\n",
       "      <td>low</td>\n",
       "      <td>medium</td>\n",
       "      <td>1793.43</td>\n",
       "      <td>248.82</td>\n",
       "      <td>1999-07-20</td>\n",
       "      <td>Monday</td>\n",
       "      <td>16</td>\n",
       "      <td>10</td>\n",
       "      <td>October</td>\n",
       "      <td>2017</td>\n",
       "    </tr>\n",
       "    <tr>\n",
       "      <th>3</th>\n",
       "      <td>3135</td>\n",
       "      <td>Titus</td>\n",
       "      <td>Worsall</td>\n",
       "      <td>Male</td>\n",
       "      <td>1617 Harper Parkway</td>\n",
       "      <td>2096</td>\n",
       "      <td>New South Wales</td>\n",
       "      <td>1962-01-14</td>\n",
       "      <td>Staff Scientist</td>\n",
       "      <td>Financial Services</td>\n",
       "      <td>...</td>\n",
       "      <td>medium</td>\n",
       "      <td>medium</td>\n",
       "      <td>1198.46</td>\n",
       "      <td>381.10</td>\n",
       "      <td>1998-12-16</td>\n",
       "      <td>Thursday</td>\n",
       "      <td>31</td>\n",
       "      <td>8</td>\n",
       "      <td>August</td>\n",
       "      <td>2017</td>\n",
       "    </tr>\n",
       "    <tr>\n",
       "      <th>4</th>\n",
       "      <td>787</td>\n",
       "      <td>Norma</td>\n",
       "      <td>Batrim</td>\n",
       "      <td>Female</td>\n",
       "      <td>0601 Stephen Place</td>\n",
       "      <td>2292</td>\n",
       "      <td>New South Wales</td>\n",
       "      <td>1996-12-15</td>\n",
       "      <td>Sales Representative</td>\n",
       "      <td>Retail</td>\n",
       "      <td>...</td>\n",
       "      <td>medium</td>\n",
       "      <td>large</td>\n",
       "      <td>1765.30</td>\n",
       "      <td>709.48</td>\n",
       "      <td>2015-08-10</td>\n",
       "      <td>Sunday</td>\n",
       "      <td>1</td>\n",
       "      <td>10</td>\n",
       "      <td>October</td>\n",
       "      <td>2017</td>\n",
       "    </tr>\n",
       "  </tbody>\n",
       "</table>\n",
       "<p>5 rows × 32 columns</p>\n",
       "</div>"
      ],
      "text/plain": [
       "   customer_id first_name  last_name  gender              address  postcode  \\\n",
       "0         2950    Kristos    Anthony    Male    984 Hoepker Court      3064   \n",
       "1         3120     Lauree  O'Donnell  Female      4 Shopko Circle      2196   \n",
       "2          402      Berne    Donegan    Male   586 Miller Parkway      2835   \n",
       "3         3135      Titus    Worsall    Male  1617 Harper Parkway      2096   \n",
       "4          787      Norma     Batrim  Female   0601 Stephen Place      2292   \n",
       "\n",
       "             state         DOB                   job_title  \\\n",
       "0         Victoria  1955-01-11         Software Engineer I   \n",
       "1  New South Wales  1979-02-04         Clinical Specialist   \n",
       "2  New South Wales  1977-06-03  Desktop Support Technician   \n",
       "3  New South Wales  1962-01-14             Staff Scientist   \n",
       "4  New South Wales  1996-12-15        Sales Representative   \n",
       "\n",
       "  job_industry_category  ... product_class product_size  list_price  \\\n",
       "0    Financial Services  ...        medium       medium       71.49   \n",
       "1                Health  ...        medium        large     2091.47   \n",
       "2                Retail  ...           low       medium     1793.43   \n",
       "3    Financial Services  ...        medium       medium     1198.46   \n",
       "4                Retail  ...        medium        large     1765.30   \n",
       "\n",
       "   standard_cost  product_first_sold_date  trans_week_day  trans_day_num  \\\n",
       "0          53.62               2012-12-02        Saturday             25   \n",
       "1         388.92               2014-03-03          Sunday             21   \n",
       "2         248.82               1999-07-20          Monday             16   \n",
       "3         381.10               1998-12-16        Thursday             31   \n",
       "4         709.48               2015-08-10          Sunday              1   \n",
       "\n",
       "   trans_month_num trans_month trans_year  \n",
       "0                2    February       2017  \n",
       "1                5         May       2017  \n",
       "2               10     October       2017  \n",
       "3                8      August       2017  \n",
       "4               10     October       2017  \n",
       "\n",
       "[5 rows x 32 columns]"
      ]
     },
     "execution_count": 6,
     "metadata": {},
     "output_type": "execute_result"
    }
   ],
   "source": [
    "kpmg_df = pd.read_csv(sf['cleaned-KPMG-cust-trans.csv'])\n",
    "kpmg_df.head()"
   ]
  },
  {
   "cell_type": "code",
   "execution_count": 7,
   "metadata": {
    "scrolled": true
   },
   "outputs": [
    {
     "name": "stdout",
     "output_type": "stream",
     "text": [
      "<class 'pandas.core.frame.DataFrame'>\n",
      "Int64Index: 19409 entries, 0 to 19809\n",
      "Data columns (total 32 columns):\n",
      " #   Column                               Non-Null Count  Dtype  \n",
      "---  ------                               --------------  -----  \n",
      " 0   customer_id                          19409 non-null  int64  \n",
      " 1   first_name                           19409 non-null  object \n",
      " 2   last_name                            19409 non-null  object \n",
      " 3   gender                               19409 non-null  object \n",
      " 4   address                              19409 non-null  object \n",
      " 5   postcode                             19409 non-null  int64  \n",
      " 6   state                                19409 non-null  object \n",
      " 7   DOB                                  19152 non-null  object \n",
      " 8   job_title                            19409 non-null  object \n",
      " 9   job_industry_category                19409 non-null  object \n",
      " 10  wealth_segment                       19409 non-null  object \n",
      " 11  owns_car                             19409 non-null  object \n",
      " 12  tenure                               19409 non-null  float64\n",
      " 13  age                                  19409 non-null  int64  \n",
      " 14  property_valuation                   19409 non-null  int64  \n",
      " 15  past_3_years_bike_related_purchases  19409 non-null  int64  \n",
      " 16  transaction_id                       19409 non-null  int64  \n",
      " 17  product_id                           19409 non-null  int64  \n",
      " 18  transaction_date                     19409 non-null  object \n",
      " 19  online_order                         19409 non-null  object \n",
      " 20  brand                                19409 non-null  object \n",
      " 21  product_line                         19409 non-null  object \n",
      " 22  product_class                        19409 non-null  object \n",
      " 23  product_size                         19409 non-null  object \n",
      " 24  list_price                           19409 non-null  float64\n",
      " 25  standard_cost                        19409 non-null  float64\n",
      " 26  product_first_sold_date              19409 non-null  object \n",
      " 27  trans_week_day                       19409 non-null  object \n",
      " 28  trans_day_num                        19409 non-null  int64  \n",
      " 29  trans_month_num                      19409 non-null  int64  \n",
      " 30  trans_month                          19409 non-null  object \n",
      " 31  trans_year                           19409 non-null  int64  \n",
      "dtypes: float64(3), int64(10), object(19)\n",
      "memory usage: 4.9+ MB\n"
     ]
    }
   ],
   "source": [
    "kpmg_df.info()"
   ]
  },
  {
   "cell_type": "code",
   "execution_count": 8,
   "metadata": {},
   "outputs": [
    {
     "data": {
      "text/plain": [
       "Index(['customer_id', 'first_name', 'last_name', 'gender', 'address',\n",
       "       'postcode', 'state', 'DOB', 'job_title', 'job_industry_category',\n",
       "       'wealth_segment', 'owns_car', 'tenure', 'age', 'property_valuation',\n",
       "       'past_3_years_bike_related_purchases', 'transaction_id', 'product_id',\n",
       "       'transaction_date', 'online_order', 'brand', 'product_line',\n",
       "       'product_class', 'product_size', 'list_price', 'standard_cost',\n",
       "       'product_first_sold_date', 'trans_week_day', 'trans_day_num',\n",
       "       'trans_month_num', 'trans_month', 'trans_year'],\n",
       "      dtype='object')"
      ]
     },
     "execution_count": 8,
     "metadata": {},
     "output_type": "execute_result"
    }
   ],
   "source": [
    "kpmg_df.columns"
   ]
  },
  {
   "cell_type": "markdown",
   "metadata": {},
   "source": [
    "#### Make transaction_id column the dataframe index \n"
   ]
  },
  {
   "cell_type": "code",
   "execution_count": 9,
   "metadata": {},
   "outputs": [
    {
     "data": {
      "text/html": [
       "<div>\n",
       "<style scoped>\n",
       "    .dataframe tbody tr th:only-of-type {\n",
       "        vertical-align: middle;\n",
       "    }\n",
       "\n",
       "    .dataframe tbody tr th {\n",
       "        vertical-align: top;\n",
       "    }\n",
       "\n",
       "    .dataframe thead th {\n",
       "        text-align: right;\n",
       "    }\n",
       "</style>\n",
       "<table border=\"1\" class=\"dataframe\">\n",
       "  <thead>\n",
       "    <tr style=\"text-align: right;\">\n",
       "      <th></th>\n",
       "      <th>customer_id</th>\n",
       "      <th>first_name</th>\n",
       "      <th>last_name</th>\n",
       "      <th>gender</th>\n",
       "      <th>address</th>\n",
       "      <th>postcode</th>\n",
       "      <th>state</th>\n",
       "      <th>DOB</th>\n",
       "      <th>job_title</th>\n",
       "      <th>job_industry_category</th>\n",
       "      <th>...</th>\n",
       "      <th>product_class</th>\n",
       "      <th>product_size</th>\n",
       "      <th>list_price</th>\n",
       "      <th>standard_cost</th>\n",
       "      <th>product_first_sold_date</th>\n",
       "      <th>trans_week_day</th>\n",
       "      <th>trans_day_num</th>\n",
       "      <th>trans_month_num</th>\n",
       "      <th>trans_month</th>\n",
       "      <th>trans_year</th>\n",
       "    </tr>\n",
       "  </thead>\n",
       "  <tbody>\n",
       "  </tbody>\n",
       "</table>\n",
       "<p>0 rows × 32 columns</p>\n",
       "</div>"
      ],
      "text/plain": [
       "Empty DataFrame\n",
       "Columns: [customer_id, first_name, last_name, gender, address, postcode, state, DOB, job_title, job_industry_category, wealth_segment, owns_car, tenure, age, property_valuation, past_3_years_bike_related_purchases, transaction_id, product_id, transaction_date, online_order, brand, product_line, product_class, product_size, list_price, standard_cost, product_first_sold_date, trans_week_day, trans_day_num, trans_month_num, trans_month, trans_year]\n",
       "Index: []\n",
       "\n",
       "[0 rows x 32 columns]"
      ]
     },
     "execution_count": 9,
     "metadata": {},
     "output_type": "execute_result"
    }
   ],
   "source": [
    "kpmg_df.loc[kpmg_df['transaction_id'].duplicated()]"
   ]
  },
  {
   "cell_type": "code",
   "execution_count": 10,
   "metadata": {},
   "outputs": [],
   "source": [
    "kpmg_df = kpmg_df.set_axis(labels=kpmg_df['transaction_id'], axis=0).drop(labels='transaction_id', axis=1)"
   ]
  },
  {
   "cell_type": "code",
   "execution_count": 11,
   "metadata": {},
   "outputs": [
    {
     "data": {
      "text/html": [
       "<div>\n",
       "<style scoped>\n",
       "    .dataframe tbody tr th:only-of-type {\n",
       "        vertical-align: middle;\n",
       "    }\n",
       "\n",
       "    .dataframe tbody tr th {\n",
       "        vertical-align: top;\n",
       "    }\n",
       "\n",
       "    .dataframe thead th {\n",
       "        text-align: right;\n",
       "    }\n",
       "</style>\n",
       "<table border=\"1\" class=\"dataframe\">\n",
       "  <thead>\n",
       "    <tr style=\"text-align: right;\">\n",
       "      <th></th>\n",
       "      <th>customer_id</th>\n",
       "      <th>first_name</th>\n",
       "      <th>last_name</th>\n",
       "      <th>gender</th>\n",
       "      <th>address</th>\n",
       "      <th>postcode</th>\n",
       "      <th>state</th>\n",
       "      <th>DOB</th>\n",
       "      <th>job_title</th>\n",
       "      <th>job_industry_category</th>\n",
       "      <th>...</th>\n",
       "      <th>product_class</th>\n",
       "      <th>product_size</th>\n",
       "      <th>list_price</th>\n",
       "      <th>standard_cost</th>\n",
       "      <th>product_first_sold_date</th>\n",
       "      <th>trans_week_day</th>\n",
       "      <th>trans_day_num</th>\n",
       "      <th>trans_month_num</th>\n",
       "      <th>trans_month</th>\n",
       "      <th>trans_year</th>\n",
       "    </tr>\n",
       "    <tr>\n",
       "      <th>transaction_id</th>\n",
       "      <th></th>\n",
       "      <th></th>\n",
       "      <th></th>\n",
       "      <th></th>\n",
       "      <th></th>\n",
       "      <th></th>\n",
       "      <th></th>\n",
       "      <th></th>\n",
       "      <th></th>\n",
       "      <th></th>\n",
       "      <th></th>\n",
       "      <th></th>\n",
       "      <th></th>\n",
       "      <th></th>\n",
       "      <th></th>\n",
       "      <th></th>\n",
       "      <th></th>\n",
       "      <th></th>\n",
       "      <th></th>\n",
       "      <th></th>\n",
       "      <th></th>\n",
       "    </tr>\n",
       "  </thead>\n",
       "  <tbody>\n",
       "    <tr>\n",
       "      <th>1</th>\n",
       "      <td>2950</td>\n",
       "      <td>Kristos</td>\n",
       "      <td>Anthony</td>\n",
       "      <td>Male</td>\n",
       "      <td>984 Hoepker Court</td>\n",
       "      <td>3064</td>\n",
       "      <td>Victoria</td>\n",
       "      <td>1955-01-11</td>\n",
       "      <td>Software Engineer I</td>\n",
       "      <td>Financial Services</td>\n",
       "      <td>...</td>\n",
       "      <td>medium</td>\n",
       "      <td>medium</td>\n",
       "      <td>71.49</td>\n",
       "      <td>53.62</td>\n",
       "      <td>2012-12-02</td>\n",
       "      <td>Saturday</td>\n",
       "      <td>25</td>\n",
       "      <td>2</td>\n",
       "      <td>February</td>\n",
       "      <td>2017</td>\n",
       "    </tr>\n",
       "    <tr>\n",
       "      <th>2</th>\n",
       "      <td>3120</td>\n",
       "      <td>Lauree</td>\n",
       "      <td>O'Donnell</td>\n",
       "      <td>Female</td>\n",
       "      <td>4 Shopko Circle</td>\n",
       "      <td>2196</td>\n",
       "      <td>New South Wales</td>\n",
       "      <td>1979-02-04</td>\n",
       "      <td>Clinical Specialist</td>\n",
       "      <td>Health</td>\n",
       "      <td>...</td>\n",
       "      <td>medium</td>\n",
       "      <td>large</td>\n",
       "      <td>2091.47</td>\n",
       "      <td>388.92</td>\n",
       "      <td>2014-03-03</td>\n",
       "      <td>Sunday</td>\n",
       "      <td>21</td>\n",
       "      <td>5</td>\n",
       "      <td>May</td>\n",
       "      <td>2017</td>\n",
       "    </tr>\n",
       "    <tr>\n",
       "      <th>3</th>\n",
       "      <td>402</td>\n",
       "      <td>Berne</td>\n",
       "      <td>Donegan</td>\n",
       "      <td>Male</td>\n",
       "      <td>586 Miller Parkway</td>\n",
       "      <td>2835</td>\n",
       "      <td>New South Wales</td>\n",
       "      <td>1977-06-03</td>\n",
       "      <td>Desktop Support Technician</td>\n",
       "      <td>Retail</td>\n",
       "      <td>...</td>\n",
       "      <td>low</td>\n",
       "      <td>medium</td>\n",
       "      <td>1793.43</td>\n",
       "      <td>248.82</td>\n",
       "      <td>1999-07-20</td>\n",
       "      <td>Monday</td>\n",
       "      <td>16</td>\n",
       "      <td>10</td>\n",
       "      <td>October</td>\n",
       "      <td>2017</td>\n",
       "    </tr>\n",
       "    <tr>\n",
       "      <th>4</th>\n",
       "      <td>3135</td>\n",
       "      <td>Titus</td>\n",
       "      <td>Worsall</td>\n",
       "      <td>Male</td>\n",
       "      <td>1617 Harper Parkway</td>\n",
       "      <td>2096</td>\n",
       "      <td>New South Wales</td>\n",
       "      <td>1962-01-14</td>\n",
       "      <td>Staff Scientist</td>\n",
       "      <td>Financial Services</td>\n",
       "      <td>...</td>\n",
       "      <td>medium</td>\n",
       "      <td>medium</td>\n",
       "      <td>1198.46</td>\n",
       "      <td>381.10</td>\n",
       "      <td>1998-12-16</td>\n",
       "      <td>Thursday</td>\n",
       "      <td>31</td>\n",
       "      <td>8</td>\n",
       "      <td>August</td>\n",
       "      <td>2017</td>\n",
       "    </tr>\n",
       "    <tr>\n",
       "      <th>5</th>\n",
       "      <td>787</td>\n",
       "      <td>Norma</td>\n",
       "      <td>Batrim</td>\n",
       "      <td>Female</td>\n",
       "      <td>0601 Stephen Place</td>\n",
       "      <td>2292</td>\n",
       "      <td>New South Wales</td>\n",
       "      <td>1996-12-15</td>\n",
       "      <td>Sales Representative</td>\n",
       "      <td>Retail</td>\n",
       "      <td>...</td>\n",
       "      <td>medium</td>\n",
       "      <td>large</td>\n",
       "      <td>1765.30</td>\n",
       "      <td>709.48</td>\n",
       "      <td>2015-08-10</td>\n",
       "      <td>Sunday</td>\n",
       "      <td>1</td>\n",
       "      <td>10</td>\n",
       "      <td>October</td>\n",
       "      <td>2017</td>\n",
       "    </tr>\n",
       "  </tbody>\n",
       "</table>\n",
       "<p>5 rows × 31 columns</p>\n",
       "</div>"
      ],
      "text/plain": [
       "                customer_id first_name  last_name  gender  \\\n",
       "transaction_id                                              \n",
       "1                      2950    Kristos    Anthony    Male   \n",
       "2                      3120     Lauree  O'Donnell  Female   \n",
       "3                       402      Berne    Donegan    Male   \n",
       "4                      3135      Titus    Worsall    Male   \n",
       "5                       787      Norma     Batrim  Female   \n",
       "\n",
       "                            address  postcode            state         DOB  \\\n",
       "transaction_id                                                               \n",
       "1                 984 Hoepker Court      3064         Victoria  1955-01-11   \n",
       "2                   4 Shopko Circle      2196  New South Wales  1979-02-04   \n",
       "3                586 Miller Parkway      2835  New South Wales  1977-06-03   \n",
       "4               1617 Harper Parkway      2096  New South Wales  1962-01-14   \n",
       "5                0601 Stephen Place      2292  New South Wales  1996-12-15   \n",
       "\n",
       "                                 job_title job_industry_category  ...  \\\n",
       "transaction_id                                                    ...   \n",
       "1                      Software Engineer I    Financial Services  ...   \n",
       "2                      Clinical Specialist                Health  ...   \n",
       "3               Desktop Support Technician                Retail  ...   \n",
       "4                          Staff Scientist    Financial Services  ...   \n",
       "5                     Sales Representative                Retail  ...   \n",
       "\n",
       "               product_class product_size  list_price  standard_cost  \\\n",
       "transaction_id                                                         \n",
       "1                     medium       medium       71.49          53.62   \n",
       "2                     medium        large     2091.47         388.92   \n",
       "3                        low       medium     1793.43         248.82   \n",
       "4                     medium       medium     1198.46         381.10   \n",
       "5                     medium        large     1765.30         709.48   \n",
       "\n",
       "                product_first_sold_date  trans_week_day  trans_day_num  \\\n",
       "transaction_id                                                           \n",
       "1                            2012-12-02        Saturday             25   \n",
       "2                            2014-03-03          Sunday             21   \n",
       "3                            1999-07-20          Monday             16   \n",
       "4                            1998-12-16        Thursday             31   \n",
       "5                            2015-08-10          Sunday              1   \n",
       "\n",
       "               trans_month_num trans_month trans_year  \n",
       "transaction_id                                         \n",
       "1                            2    February       2017  \n",
       "2                            5         May       2017  \n",
       "3                           10     October       2017  \n",
       "4                            8      August       2017  \n",
       "5                           10     October       2017  \n",
       "\n",
       "[5 rows x 31 columns]"
      ]
     },
     "execution_count": 11,
     "metadata": {},
     "output_type": "execute_result"
    }
   ],
   "source": [
    "kpmg_df.head()"
   ]
  },
  {
   "cell_type": "code",
   "execution_count": 12,
   "metadata": {},
   "outputs": [
    {
     "data": {
      "text/plain": [
       "Index(['customer_id', 'first_name', 'last_name', 'gender', 'address',\n",
       "       'postcode', 'state', 'DOB', 'job_title', 'job_industry_category',\n",
       "       'wealth_segment', 'owns_car', 'tenure', 'age', 'property_valuation',\n",
       "       'past_3_years_bike_related_purchases', 'product_id', 'transaction_date',\n",
       "       'online_order', 'brand', 'product_line', 'product_class',\n",
       "       'product_size', 'list_price', 'standard_cost',\n",
       "       'product_first_sold_date', 'trans_week_day', 'trans_day_num',\n",
       "       'trans_month_num', 'trans_month', 'trans_year'],\n",
       "      dtype='object')"
      ]
     },
     "execution_count": 12,
     "metadata": {},
     "output_type": "execute_result"
    }
   ],
   "source": [
    "kpmg_df.columns"
   ]
  },
  {
   "cell_type": "markdown",
   "metadata": {},
   "source": [
    "#### Consider the remaining ID columns as unique identifiers"
   ]
  },
  {
   "cell_type": "code",
   "execution_count": 13,
   "metadata": {},
   "outputs": [
    {
     "data": {
      "text/plain": [
       "Index(['customer_id', 'product_id'], dtype='object')"
      ]
     },
     "execution_count": 13,
     "metadata": {},
     "output_type": "execute_result"
    }
   ],
   "source": [
    "id_cols = kpmg_df.columns[kpmg_df.columns.str.endswith('id')]\n",
    "id_cols"
   ]
  },
  {
   "cell_type": "code",
   "execution_count": 14,
   "metadata": {},
   "outputs": [],
   "source": [
    "# help(pd.DataFrame().cummax)"
   ]
  },
  {
   "cell_type": "code",
   "execution_count": 15,
   "metadata": {},
   "outputs": [
    {
     "data": {
      "text/plain": [
       "count    19409.000000\n",
       "mean        45.757381\n",
       "std         30.565266\n",
       "min          0.000000\n",
       "25%         18.000000\n",
       "50%         45.000000\n",
       "75%         72.000000\n",
       "max        100.000000\n",
       "Name: product_id, dtype: float64"
      ]
     },
     "execution_count": 15,
     "metadata": {},
     "output_type": "execute_result"
    }
   ],
   "source": [
    "kpmg_df['product_id'].describe()"
   ]
  },
  {
   "cell_type": "code",
   "execution_count": 16,
   "metadata": {},
   "outputs": [
    {
     "data": {
      "text/plain": [
       "count    19409.000000\n",
       "mean      1741.357360\n",
       "std       1009.886488\n",
       "min          1.000000\n",
       "25%        861.000000\n",
       "50%       1741.000000\n",
       "75%       2615.000000\n",
       "max       3500.000000\n",
       "Name: customer_id, dtype: float64"
      ]
     },
     "execution_count": 16,
     "metadata": {},
     "output_type": "execute_result"
    }
   ],
   "source": [
    "kpmg_df['customer_id'].describe()"
   ]
  },
  {
   "cell_type": "code",
   "execution_count": 17,
   "metadata": {},
   "outputs": [],
   "source": [
    "# Remove 'product_first_sold_date' feature\n",
    "# kpmg_df = kpmg_df.drop(labels=['product_first_sold_date'], axis=1)\n",
    "# kpmg_df.columns"
   ]
  },
  {
   "cell_type": "markdown",
   "metadata": {},
   "source": [
    "### CALCULATE SALES VOLUME"
   ]
  },
  {
   "cell_type": "markdown",
   "metadata": {},
   "source": [
    "#### PRODUCT SALES VOLUME"
   ]
  },
  {
   "cell_type": "code",
   "execution_count": 18,
   "metadata": {},
   "outputs": [
    {
     "data": {
      "text/plain": [
       "0      1155\n",
       "3       348\n",
       "1       307\n",
       "38      265\n",
       "35      263\n",
       "       ... \n",
       "71      134\n",
       "8       133\n",
       "75      133\n",
       "100     126\n",
       "47      120\n",
       "Name: product_id, Length: 101, dtype: int64"
      ]
     },
     "execution_count": 18,
     "metadata": {},
     "output_type": "execute_result"
    }
   ],
   "source": [
    "prod_sales_vol = kpmg_df['product_id'].value_counts()\n",
    "prod_sales_vol"
   ]
  },
  {
   "cell_type": "code",
   "execution_count": 19,
   "metadata": {},
   "outputs": [
    {
     "data": {
      "image/png": "[encoded data removed]",
      "text/plain": [
       "<Figure size 3300x600 with 1 Axes>"
      ]
     },
     "metadata": {
      "needs_background": "light"
     },
     "output_type": "display_data"
    }
   ],
   "source": [
    "plt.figure(figsize=(22, 4), dpi=150)\n",
    "sns.barplot(x=prod_sales_vol.index, y=prod_sales_vol, order=prod_sales_vol.index)\n",
    "plt.title(\"Product Sales Volume\")\n",
    "# plt.legend(labels=prod_sales_vol.index, bbox_to_anchor=[.5, .3, .5, .2])\n",
    "plt.show()"
   ]
  },
  {
   "cell_type": "code",
   "execution_count": 20,
   "metadata": {},
   "outputs": [],
   "source": [
    "# plt.figure(figsize=(22, 4), dpi=150)\n",
    "# sns.countplot(data=kpmg_df, x='product_id')"
   ]
  },
  {
   "cell_type": "markdown",
   "metadata": {},
   "source": [
    "<b>Note:<br> Top selling product is product_id: 0</b>"
   ]
  },
  {
   "cell_type": "markdown",
   "metadata": {},
   "source": [
    "#### BRAND SALES VOLUME"
   ]
  },
  {
   "cell_type": "code",
   "execution_count": 21,
   "metadata": {
    "scrolled": true
   },
   "outputs": [
    {
     "data": {
      "text/plain": [
       "Solex             4176\n",
       "Giant Bicycles    3255\n",
       "WeareA2B          3218\n",
       "OHM Cycles        2990\n",
       "Trek Bicycles     2925\n",
       "Norco Bicycles    2845\n",
       "Name: brand, dtype: int64"
      ]
     },
     "execution_count": 21,
     "metadata": {},
     "output_type": "execute_result"
    }
   ],
   "source": [
    "brand_sales_vol = kpmg_df['brand'].value_counts()\n",
    "brand_sales_vol"
   ]
  },
  {
   "cell_type": "code",
   "execution_count": 22,
   "metadata": {},
   "outputs": [
    {
     "data": {
      "image/png": "[encoded data removed]",
      "text/plain": [
       "<Figure size 900x450 with 1 Axes>"
      ]
     },
     "metadata": {
      "needs_background": "light"
     },
     "output_type": "display_data"
    }
   ],
   "source": [
    "plt.figure(figsize=(6, 3), dpi=150)\n",
    "sns.barplot(x=brand_sales_vol.index, y=brand_sales_vol)\n",
    "plt.xticks(rotation=90)\n",
    "plt.title('Brand Sales Volume')\n",
    "plt.show()"
   ]
  },
  {
   "cell_type": "markdown",
   "metadata": {},
   "source": [
    "<b>NOTE:<br>\n",
    "    Top selling brand is Solex</b>"
   ]
  },
  {
   "cell_type": "markdown",
   "metadata": {},
   "source": [
    "#### Product Sales Volume per Brand category"
   ]
  },
  {
   "cell_type": "code",
   "execution_count": 23,
   "metadata": {
    "scrolled": true
   },
   "outputs": [
    {
     "data": {
      "text/html": [
       "<div>\n",
       "<style scoped>\n",
       "    .dataframe tbody tr th:only-of-type {\n",
       "        vertical-align: middle;\n",
       "    }\n",
       "\n",
       "    .dataframe tbody tr th {\n",
       "        vertical-align: top;\n",
       "    }\n",
       "\n",
       "    .dataframe thead th {\n",
       "        text-align: right;\n",
       "    }\n",
       "</style>\n",
       "<table border=\"1\" class=\"dataframe\">\n",
       "  <thead>\n",
       "    <tr style=\"text-align: right;\">\n",
       "      <th></th>\n",
       "      <th>brand</th>\n",
       "      <th>product_id</th>\n",
       "      <th>count</th>\n",
       "    </tr>\n",
       "  </thead>\n",
       "  <tbody>\n",
       "    <tr>\n",
       "      <th>0</th>\n",
       "      <td>Giant Bicycles</td>\n",
       "      <td>1</td>\n",
       "      <td>307</td>\n",
       "    </tr>\n",
       "    <tr>\n",
       "      <th>1</th>\n",
       "      <td>Giant Bicycles</td>\n",
       "      <td>32</td>\n",
       "      <td>196</td>\n",
       "    </tr>\n",
       "    <tr>\n",
       "      <th>2</th>\n",
       "      <td>Giant Bicycles</td>\n",
       "      <td>4</td>\n",
       "      <td>179</td>\n",
       "    </tr>\n",
       "    <tr>\n",
       "      <th>3</th>\n",
       "      <td>Giant Bicycles</td>\n",
       "      <td>69</td>\n",
       "      <td>155</td>\n",
       "    </tr>\n",
       "    <tr>\n",
       "      <th>4</th>\n",
       "      <td>Giant Bicycles</td>\n",
       "      <td>31</td>\n",
       "      <td>152</td>\n",
       "    </tr>\n",
       "    <tr>\n",
       "      <th>5</th>\n",
       "      <td>Giant Bicycles</td>\n",
       "      <td>39</td>\n",
       "      <td>149</td>\n",
       "    </tr>\n",
       "    <tr>\n",
       "      <th>6</th>\n",
       "      <td>Giant Bicycles</td>\n",
       "      <td>78</td>\n",
       "      <td>148</td>\n",
       "    </tr>\n",
       "    <tr>\n",
       "      <th>7</th>\n",
       "      <td>Giant Bicycles</td>\n",
       "      <td>66</td>\n",
       "      <td>147</td>\n",
       "    </tr>\n",
       "    <tr>\n",
       "      <th>8</th>\n",
       "      <td>Giant Bicycles</td>\n",
       "      <td>94</td>\n",
       "      <td>146</td>\n",
       "    </tr>\n",
       "    <tr>\n",
       "      <th>9</th>\n",
       "      <td>Giant Bicycles</td>\n",
       "      <td>33</td>\n",
       "      <td>142</td>\n",
       "    </tr>\n",
       "    <tr>\n",
       "      <th>10</th>\n",
       "      <td>Giant Bicycles</td>\n",
       "      <td>60</td>\n",
       "      <td>139</td>\n",
       "    </tr>\n",
       "    <tr>\n",
       "      <th>11</th>\n",
       "      <td>Giant Bicycles</td>\n",
       "      <td>75</td>\n",
       "      <td>133</td>\n",
       "    </tr>\n",
       "    <tr>\n",
       "      <th>12</th>\n",
       "      <td>Giant Bicycles</td>\n",
       "      <td>95</td>\n",
       "      <td>130</td>\n",
       "    </tr>\n",
       "    <tr>\n",
       "      <th>13</th>\n",
       "      <td>Giant Bicycles</td>\n",
       "      <td>35</td>\n",
       "      <td>125</td>\n",
       "    </tr>\n",
       "    <tr>\n",
       "      <th>14</th>\n",
       "      <td>Giant Bicycles</td>\n",
       "      <td>11</td>\n",
       "      <td>124</td>\n",
       "    </tr>\n",
       "    <tr>\n",
       "      <th>15</th>\n",
       "      <td>Giant Bicycles</td>\n",
       "      <td>87</td>\n",
       "      <td>121</td>\n",
       "    </tr>\n",
       "    <tr>\n",
       "      <th>16</th>\n",
       "      <td>Giant Bicycles</td>\n",
       "      <td>25</td>\n",
       "      <td>121</td>\n",
       "    </tr>\n",
       "    <tr>\n",
       "      <th>17</th>\n",
       "      <td>Giant Bicycles</td>\n",
       "      <td>0</td>\n",
       "      <td>104</td>\n",
       "    </tr>\n",
       "    <tr>\n",
       "      <th>18</th>\n",
       "      <td>Giant Bicycles</td>\n",
       "      <td>82</td>\n",
       "      <td>53</td>\n",
       "    </tr>\n",
       "    <tr>\n",
       "      <th>19</th>\n",
       "      <td>Giant Bicycles</td>\n",
       "      <td>50</td>\n",
       "      <td>53</td>\n",
       "    </tr>\n",
       "    <tr>\n",
       "      <th>20</th>\n",
       "      <td>Giant Bicycles</td>\n",
       "      <td>53</td>\n",
       "      <td>51</td>\n",
       "    </tr>\n",
       "    <tr>\n",
       "      <th>21</th>\n",
       "      <td>Giant Bicycles</td>\n",
       "      <td>64</td>\n",
       "      <td>51</td>\n",
       "    </tr>\n",
       "    <tr>\n",
       "      <th>22</th>\n",
       "      <td>Giant Bicycles</td>\n",
       "      <td>5</td>\n",
       "      <td>51</td>\n",
       "    </tr>\n",
       "    <tr>\n",
       "      <th>23</th>\n",
       "      <td>Giant Bicycles</td>\n",
       "      <td>89</td>\n",
       "      <td>49</td>\n",
       "    </tr>\n",
       "    <tr>\n",
       "      <th>24</th>\n",
       "      <td>Giant Bicycles</td>\n",
       "      <td>12</td>\n",
       "      <td>48</td>\n",
       "    </tr>\n",
       "    <tr>\n",
       "      <th>25</th>\n",
       "      <td>Giant Bicycles</td>\n",
       "      <td>7</td>\n",
       "      <td>48</td>\n",
       "    </tr>\n",
       "    <tr>\n",
       "      <th>26</th>\n",
       "      <td>Giant Bicycles</td>\n",
       "      <td>84</td>\n",
       "      <td>48</td>\n",
       "    </tr>\n",
       "    <tr>\n",
       "      <th>27</th>\n",
       "      <td>Giant Bicycles</td>\n",
       "      <td>2</td>\n",
       "      <td>45</td>\n",
       "    </tr>\n",
       "    <tr>\n",
       "      <th>28</th>\n",
       "      <td>Giant Bicycles</td>\n",
       "      <td>96</td>\n",
       "      <td>40</td>\n",
       "    </tr>\n",
       "    <tr>\n",
       "      <th>81</th>\n",
       "      <td>Solex</td>\n",
       "      <td>0</td>\n",
       "      <td>270</td>\n",
       "    </tr>\n",
       "    <tr>\n",
       "      <th>82</th>\n",
       "      <td>Solex</td>\n",
       "      <td>36</td>\n",
       "      <td>209</td>\n",
       "    </tr>\n",
       "    <tr>\n",
       "      <th>83</th>\n",
       "      <td>Solex</td>\n",
       "      <td>2</td>\n",
       "      <td>193</td>\n",
       "    </tr>\n",
       "    <tr>\n",
       "      <th>84</th>\n",
       "      <td>Solex</td>\n",
       "      <td>13</td>\n",
       "      <td>186</td>\n",
       "    </tr>\n",
       "    <tr>\n",
       "      <th>85</th>\n",
       "      <td>Solex</td>\n",
       "      <td>62</td>\n",
       "      <td>185</td>\n",
       "    </tr>\n",
       "    <tr>\n",
       "      <th>86</th>\n",
       "      <td>Solex</td>\n",
       "      <td>43</td>\n",
       "      <td>167</td>\n",
       "    </tr>\n",
       "    <tr>\n",
       "      <th>87</th>\n",
       "      <td>Solex</td>\n",
       "      <td>45</td>\n",
       "      <td>157</td>\n",
       "    </tr>\n",
       "    <tr>\n",
       "      <th>88</th>\n",
       "      <td>Solex</td>\n",
       "      <td>83</td>\n",
       "      <td>155</td>\n",
       "    </tr>\n",
       "    <tr>\n",
       "      <th>89</th>\n",
       "      <td>Solex</td>\n",
       "      <td>38</td>\n",
       "      <td>154</td>\n",
       "    </tr>\n",
       "    <tr>\n",
       "      <th>90</th>\n",
       "      <td>Solex</td>\n",
       "      <td>21</td>\n",
       "      <td>153</td>\n",
       "    </tr>\n",
       "    <tr>\n",
       "      <th>91</th>\n",
       "      <td>Solex</td>\n",
       "      <td>17</td>\n",
       "      <td>150</td>\n",
       "    </tr>\n",
       "  </tbody>\n",
       "</table>\n",
       "</div>"
      ],
      "text/plain": [
       "             brand  product_id  count\n",
       "0   Giant Bicycles           1    307\n",
       "1   Giant Bicycles          32    196\n",
       "2   Giant Bicycles           4    179\n",
       "3   Giant Bicycles          69    155\n",
       "4   Giant Bicycles          31    152\n",
       "5   Giant Bicycles          39    149\n",
       "6   Giant Bicycles          78    148\n",
       "7   Giant Bicycles          66    147\n",
       "8   Giant Bicycles          94    146\n",
       "9   Giant Bicycles          33    142\n",
       "10  Giant Bicycles          60    139\n",
       "11  Giant Bicycles          75    133\n",
       "12  Giant Bicycles          95    130\n",
       "13  Giant Bicycles          35    125\n",
       "14  Giant Bicycles          11    124\n",
       "15  Giant Bicycles          87    121\n",
       "16  Giant Bicycles          25    121\n",
       "17  Giant Bicycles           0    104\n",
       "18  Giant Bicycles          82     53\n",
       "19  Giant Bicycles          50     53\n",
       "20  Giant Bicycles          53     51\n",
       "21  Giant Bicycles          64     51\n",
       "22  Giant Bicycles           5     51\n",
       "23  Giant Bicycles          89     49\n",
       "24  Giant Bicycles          12     48\n",
       "25  Giant Bicycles           7     48\n",
       "26  Giant Bicycles          84     48\n",
       "27  Giant Bicycles           2     45\n",
       "28  Giant Bicycles          96     40\n",
       "81           Solex           0    270\n",
       "82           Solex          36    209\n",
       "83           Solex           2    193\n",
       "84           Solex          13    186\n",
       "85           Solex          62    185\n",
       "86           Solex          43    167\n",
       "87           Solex          45    157\n",
       "88           Solex          83    155\n",
       "89           Solex          38    154\n",
       "90           Solex          21    153\n",
       "91           Solex          17    150"
      ]
     },
     "execution_count": 23,
     "metadata": {},
     "output_type": "execute_result"
    }
   ],
   "source": [
    "# number of occurrences of product_id per brand name\n",
    "pr_br_sales_vol = kpmg_df[['brand', 'product_id']].value_counts().reset_index()\n",
    "pr_br_sales_vol.columns = pr_br_sales_vol.columns.astype(np.str_).str.replace('0', 'count')\n",
    "\n",
    "# re-ordering the dataframe by brand name (asc), count (desc)\n",
    "pr_br_sales_vol = pd.DataFrame(pr_br_sales_vol.sort_values(by=['brand', 'count'], ascending=[True, False]) )\n",
    "pr_br_sales_vol.index = range(len(pr_br_sales_vol))\n",
    "\n",
    "pr_br_sales_vol.loc[pr_br_sales_vol['brand'].isin(['Solex', 'Giant Bicycles'])].iloc[:40]"
   ]
  },
  {
   "cell_type": "markdown",
   "metadata": {},
   "source": [
    "#### Best selling product per brand category"
   ]
  },
  {
   "cell_type": "code",
   "execution_count": 24,
   "metadata": {},
   "outputs": [
    {
     "data": {
      "text/html": [
       "<div>\n",
       "<style scoped>\n",
       "    .dataframe tbody tr th:only-of-type {\n",
       "        vertical-align: middle;\n",
       "    }\n",
       "\n",
       "    .dataframe tbody tr th {\n",
       "        vertical-align: top;\n",
       "    }\n",
       "\n",
       "    .dataframe thead th {\n",
       "        text-align: right;\n",
       "    }\n",
       "</style>\n",
       "<table border=\"1\" class=\"dataframe\">\n",
       "  <thead>\n",
       "    <tr style=\"text-align: right;\">\n",
       "      <th></th>\n",
       "      <th>brand</th>\n",
       "      <th>product_id</th>\n",
       "      <th>count</th>\n",
       "    </tr>\n",
       "  </thead>\n",
       "  <tbody>\n",
       "    <tr>\n",
       "      <th>117</th>\n",
       "      <td>Trek Bicycles</td>\n",
       "      <td>3</td>\n",
       "      <td>348</td>\n",
       "    </tr>\n",
       "    <tr>\n",
       "      <th>0</th>\n",
       "      <td>Giant Bicycles</td>\n",
       "      <td>1</td>\n",
       "      <td>307</td>\n",
       "    </tr>\n",
       "    <tr>\n",
       "      <th>81</th>\n",
       "      <td>Solex</td>\n",
       "      <td>0</td>\n",
       "      <td>270</td>\n",
       "    </tr>\n",
       "    <tr>\n",
       "      <th>54</th>\n",
       "      <td>OHM Cycles</td>\n",
       "      <td>0</td>\n",
       "      <td>239</td>\n",
       "    </tr>\n",
       "    <tr>\n",
       "      <th>29</th>\n",
       "      <td>Norco Bicycles</td>\n",
       "      <td>0</td>\n",
       "      <td>233</td>\n",
       "    </tr>\n",
       "    <tr>\n",
       "      <th>140</th>\n",
       "      <td>WeareA2B</td>\n",
       "      <td>92</td>\n",
       "      <td>203</td>\n",
       "    </tr>\n",
       "  </tbody>\n",
       "</table>\n",
       "</div>"
      ],
      "text/plain": [
       "              brand  product_id  count\n",
       "117   Trek Bicycles           3    348\n",
       "0    Giant Bicycles           1    307\n",
       "81            Solex           0    270\n",
       "54       OHM Cycles           0    239\n",
       "29   Norco Bicycles           0    233\n",
       "140        WeareA2B          92    203"
      ]
     },
     "execution_count": 24,
     "metadata": {},
     "output_type": "execute_result"
    }
   ],
   "source": [
    "pr_br_sales_vol.drop_duplicates(subset='brand').sort_values('count', ascending=False)"
   ]
  },
  {
   "cell_type": "markdown",
   "metadata": {},
   "source": [
    "#### Product sales volume per 'product_class', 'product_line' and 'brand'"
   ]
  },
  {
   "cell_type": "code",
   "execution_count": 25,
   "metadata": {},
   "outputs": [
    {
     "data": {
      "text/html": [
       "<div>\n",
       "<style scoped>\n",
       "    .dataframe tbody tr th:only-of-type {\n",
       "        vertical-align: middle;\n",
       "    }\n",
       "\n",
       "    .dataframe tbody tr th {\n",
       "        vertical-align: top;\n",
       "    }\n",
       "\n",
       "    .dataframe thead th {\n",
       "        text-align: right;\n",
       "    }\n",
       "</style>\n",
       "<table border=\"1\" class=\"dataframe\">\n",
       "  <thead>\n",
       "    <tr style=\"text-align: right;\">\n",
       "      <th></th>\n",
       "      <th></th>\n",
       "      <th></th>\n",
       "      <th></th>\n",
       "      <th>sold_units</th>\n",
       "    </tr>\n",
       "    <tr>\n",
       "      <th>product_class</th>\n",
       "      <th>product_line</th>\n",
       "      <th>brand</th>\n",
       "      <th>product_id</th>\n",
       "      <th></th>\n",
       "    </tr>\n",
       "  </thead>\n",
       "  <tbody>\n",
       "    <tr>\n",
       "      <th rowspan=\"3\" valign=\"top\">medium</th>\n",
       "      <th rowspan=\"3\" valign=\"top\">Standard</th>\n",
       "      <th>Trek Bicycles</th>\n",
       "      <th>3</th>\n",
       "      <td>348</td>\n",
       "    </tr>\n",
       "    <tr>\n",
       "      <th>Giant Bicycles</th>\n",
       "      <th>1</th>\n",
       "      <td>267</td>\n",
       "    </tr>\n",
       "    <tr>\n",
       "      <th>Solex</th>\n",
       "      <th>0</th>\n",
       "      <td>228</td>\n",
       "    </tr>\n",
       "    <tr>\n",
       "      <th>low</th>\n",
       "      <th>Standard</th>\n",
       "      <th>Solex</th>\n",
       "      <th>36</th>\n",
       "      <td>209</td>\n",
       "    </tr>\n",
       "    <tr>\n",
       "      <th>medium</th>\n",
       "      <th>Standard</th>\n",
       "      <th>Solex</th>\n",
       "      <th>2</th>\n",
       "      <td>193</td>\n",
       "    </tr>\n",
       "    <tr>\n",
       "      <th>...</th>\n",
       "      <th>...</th>\n",
       "      <th>...</th>\n",
       "      <th>...</th>\n",
       "      <td>...</td>\n",
       "    </tr>\n",
       "    <tr>\n",
       "      <th>high</th>\n",
       "      <th>Standard</th>\n",
       "      <th>Solex</th>\n",
       "      <th>62</th>\n",
       "      <td>36</td>\n",
       "    </tr>\n",
       "    <tr>\n",
       "      <th>low</th>\n",
       "      <th>Road</th>\n",
       "      <th>WeareA2B</th>\n",
       "      <th>76</th>\n",
       "      <td>36</td>\n",
       "    </tr>\n",
       "    <tr>\n",
       "      <th rowspan=\"3\" valign=\"top\">medium</th>\n",
       "      <th>Standard</th>\n",
       "      <th>WeareA2B</th>\n",
       "      <th>31</th>\n",
       "      <td>33</td>\n",
       "    </tr>\n",
       "    <tr>\n",
       "      <th>Road</th>\n",
       "      <th>Norco Bicycles</th>\n",
       "      <th>70</th>\n",
       "      <td>26</td>\n",
       "    </tr>\n",
       "    <tr>\n",
       "      <th>Standard</th>\n",
       "      <th>OHM Cycles</th>\n",
       "      <th>30</th>\n",
       "      <td>21</td>\n",
       "    </tr>\n",
       "  </tbody>\n",
       "</table>\n",
       "<p>185 rows × 1 columns</p>\n",
       "</div>"
      ],
      "text/plain": [
       "                                                      sold_units\n",
       "product_class product_line brand          product_id            \n",
       "medium        Standard     Trek Bicycles  3                  348\n",
       "                           Giant Bicycles 1                  267\n",
       "                           Solex          0                  228\n",
       "low           Standard     Solex          36                 209\n",
       "medium        Standard     Solex          2                  193\n",
       "...                                                          ...\n",
       "high          Standard     Solex          62                  36\n",
       "low           Road         WeareA2B       76                  36\n",
       "medium        Standard     WeareA2B       31                  33\n",
       "              Road         Norco Bicycles 70                  26\n",
       "              Standard     OHM Cycles     30                  21\n",
       "\n",
       "[185 rows x 1 columns]"
      ]
     },
     "execution_count": 25,
     "metadata": {},
     "output_type": "execute_result"
    }
   ],
   "source": [
    "prod_sales_vol = pd.DataFrame(kpmg_df[['product_class', 'product_line', 'brand', 'product_id']].value_counts())#.reset_index()\n",
    "# prod_br_sales_vol.columns = prod_br_sales_vol.columns.astype(np.str_).str.replace('0', 'count')\n",
    "prod_sales_vol.columns = prod_sales_vol.columns.astype(np.str_).str.replace('0', 'sold_units')\n",
    "prod_sales_vol"
   ]
  },
  {
   "cell_type": "code",
   "execution_count": 26,
   "metadata": {},
   "outputs": [
    {
     "name": "stderr",
     "output_type": "stream",
     "text": [
      "C:\\ProgramData\\Anaconda3\\lib\\site-packages\\IPython\\core\\interactiveshell.py:2895: PerformanceWarning: indexing past lexsort depth may impact performance.\n",
      "  return runner(coro)\n"
     ]
    },
    {
     "data": {
      "text/html": [
       "<div>\n",
       "<style scoped>\n",
       "    .dataframe tbody tr th:only-of-type {\n",
       "        vertical-align: middle;\n",
       "    }\n",
       "\n",
       "    .dataframe tbody tr th {\n",
       "        vertical-align: top;\n",
       "    }\n",
       "\n",
       "    .dataframe thead th {\n",
       "        text-align: right;\n",
       "    }\n",
       "</style>\n",
       "<table border=\"1\" class=\"dataframe\">\n",
       "  <thead>\n",
       "    <tr style=\"text-align: right;\">\n",
       "      <th></th>\n",
       "      <th></th>\n",
       "      <th>sold_units</th>\n",
       "    </tr>\n",
       "    <tr>\n",
       "      <th>brand</th>\n",
       "      <th>product_id</th>\n",
       "      <th></th>\n",
       "    </tr>\n",
       "  </thead>\n",
       "  <tbody>\n",
       "    <tr>\n",
       "      <th>Trek Bicycles</th>\n",
       "      <th>3</th>\n",
       "      <td>348</td>\n",
       "    </tr>\n",
       "    <tr>\n",
       "      <th>Giant Bicycles</th>\n",
       "      <th>1</th>\n",
       "      <td>267</td>\n",
       "    </tr>\n",
       "    <tr>\n",
       "      <th rowspan=\"2\" valign=\"top\">Solex</th>\n",
       "      <th>0</th>\n",
       "      <td>228</td>\n",
       "    </tr>\n",
       "    <tr>\n",
       "      <th>2</th>\n",
       "      <td>193</td>\n",
       "    </tr>\n",
       "    <tr>\n",
       "      <th>WeareA2B</th>\n",
       "      <th>54</th>\n",
       "      <td>189</td>\n",
       "    </tr>\n",
       "    <tr>\n",
       "      <th>...</th>\n",
       "      <th>...</th>\n",
       "      <td>...</td>\n",
       "    </tr>\n",
       "    <tr>\n",
       "      <th>OHM Cycles</th>\n",
       "      <th>72</th>\n",
       "      <td>40</td>\n",
       "    </tr>\n",
       "    <tr>\n",
       "      <th>Giant Bicycles</th>\n",
       "      <th>96</th>\n",
       "      <td>40</td>\n",
       "    </tr>\n",
       "    <tr>\n",
       "      <th>Trek Bicycles</th>\n",
       "      <th>0</th>\n",
       "      <td>38</td>\n",
       "    </tr>\n",
       "    <tr>\n",
       "      <th>WeareA2B</th>\n",
       "      <th>31</th>\n",
       "      <td>33</td>\n",
       "    </tr>\n",
       "    <tr>\n",
       "      <th>OHM Cycles</th>\n",
       "      <th>30</th>\n",
       "      <td>21</td>\n",
       "    </tr>\n",
       "  </tbody>\n",
       "</table>\n",
       "<p>87 rows × 1 columns</p>\n",
       "</div>"
      ],
      "text/plain": [
       "                           sold_units\n",
       "brand          product_id            \n",
       "Trek Bicycles  3                  348\n",
       "Giant Bicycles 1                  267\n",
       "Solex          0                  228\n",
       "               2                  193\n",
       "WeareA2B       54                 189\n",
       "...                               ...\n",
       "OHM Cycles     72                  40\n",
       "Giant Bicycles 96                  40\n",
       "Trek Bicycles  0                   38\n",
       "WeareA2B       31                  33\n",
       "OHM Cycles     30                  21\n",
       "\n",
       "[87 rows x 1 columns]"
      ]
     },
     "execution_count": 26,
     "metadata": {},
     "output_type": "execute_result"
    }
   ],
   "source": [
    "prod_sales_vol.xs(['medium', 'Standard'])"
   ]
  },
  {
   "cell_type": "code",
   "execution_count": 27,
   "metadata": {},
   "outputs": [],
   "source": [
    "# plt.figure(figsize=(6, 3), dpi=150)\n",
    "# sns.countplot(data=pr_br_sales_vol, x='product_id', hue='brand')\n",
    "# plt.xticks(rotation=90, size=3);"
   ]
  },
  {
   "cell_type": "code",
   "execution_count": 28,
   "metadata": {},
   "outputs": [],
   "source": [
    "# sns.barplot(x=pr_br_sales_vol.index, y=pr_br_sales_vol['count'])"
   ]
  },
  {
   "cell_type": "code",
   "execution_count": 29,
   "metadata": {
    "scrolled": true
   },
   "outputs": [],
   "source": [
    "# plt.figure(figsize=(50,10), dpi=200)\n",
    "# sns.countplot(data=kpmg_df, hue='brand', x='product_id')"
   ]
  },
  {
   "cell_type": "markdown",
   "metadata": {},
   "source": [
    "#### Brand Sales Volume per Product ID category"
   ]
  },
  {
   "cell_type": "code",
   "execution_count": 30,
   "metadata": {},
   "outputs": [
    {
     "data": {
      "text/html": [
       "<div>\n",
       "<style scoped>\n",
       "    .dataframe tbody tr th:only-of-type {\n",
       "        vertical-align: middle;\n",
       "    }\n",
       "\n",
       "    .dataframe tbody tr th {\n",
       "        vertical-align: top;\n",
       "    }\n",
       "\n",
       "    .dataframe thead th {\n",
       "        text-align: right;\n",
       "    }\n",
       "</style>\n",
       "<table border=\"1\" class=\"dataframe\">\n",
       "  <thead>\n",
       "    <tr style=\"text-align: right;\">\n",
       "      <th></th>\n",
       "      <th>product_id</th>\n",
       "      <th>brand</th>\n",
       "      <th>count</th>\n",
       "    </tr>\n",
       "  </thead>\n",
       "  <tbody>\n",
       "    <tr>\n",
       "      <th>0</th>\n",
       "      <td>0</td>\n",
       "      <td>Solex</td>\n",
       "      <td>270</td>\n",
       "    </tr>\n",
       "    <tr>\n",
       "      <th>1</th>\n",
       "      <td>0</td>\n",
       "      <td>OHM Cycles</td>\n",
       "      <td>239</td>\n",
       "    </tr>\n",
       "    <tr>\n",
       "      <th>2</th>\n",
       "      <td>0</td>\n",
       "      <td>Norco Bicycles</td>\n",
       "      <td>233</td>\n",
       "    </tr>\n",
       "    <tr>\n",
       "      <th>3</th>\n",
       "      <td>0</td>\n",
       "      <td>Trek Bicycles</td>\n",
       "      <td>214</td>\n",
       "    </tr>\n",
       "    <tr>\n",
       "      <th>4</th>\n",
       "      <td>0</td>\n",
       "      <td>Giant Bicycles</td>\n",
       "      <td>104</td>\n",
       "    </tr>\n",
       "    <tr>\n",
       "      <th>5</th>\n",
       "      <td>0</td>\n",
       "      <td>WeareA2B</td>\n",
       "      <td>95</td>\n",
       "    </tr>\n",
       "    <tr>\n",
       "      <th>7</th>\n",
       "      <td>2</td>\n",
       "      <td>Solex</td>\n",
       "      <td>193</td>\n",
       "    </tr>\n",
       "    <tr>\n",
       "      <th>8</th>\n",
       "      <td>2</td>\n",
       "      <td>Giant Bicycles</td>\n",
       "      <td>45</td>\n",
       "    </tr>\n",
       "  </tbody>\n",
       "</table>\n",
       "</div>"
      ],
      "text/plain": [
       "   product_id           brand  count\n",
       "0           0           Solex    270\n",
       "1           0      OHM Cycles    239\n",
       "2           0  Norco Bicycles    233\n",
       "3           0   Trek Bicycles    214\n",
       "4           0  Giant Bicycles    104\n",
       "5           0        WeareA2B     95\n",
       "7           2           Solex    193\n",
       "8           2  Giant Bicycles     45"
      ]
     },
     "execution_count": 30,
     "metadata": {},
     "output_type": "execute_result"
    }
   ],
   "source": [
    "br_pr_sales_vol = kpmg_df[['product_id', 'brand']].value_counts().reset_index()\n",
    "br_pr_sales_vol.columns = br_pr_sales_vol.columns.astype(np.str_).str.replace('0', 'count')\n",
    "\n",
    "# reordering the dataframe by product_id (asc), count (desc)\n",
    "br_pr_sales_vol = pd.DataFrame(br_pr_sales_vol.sort_values(by=['product_id', 'count'], ascending=[True, False]))\n",
    "\n",
    "# reassigning a proper numeric index for the dataframe\n",
    "br_pr_sales_vol.index = range(len(br_pr_sales_vol))\n",
    "\n",
    "# display details for products 0 & 2\n",
    "br_pr_sales_vol.loc[ ( br_pr_sales_vol['product_id'].isin([0, 2]) )]# & (br_pr_sales_vol['brand'].isin(['Solex', 'Trek Bicycles']) )]"
   ]
  },
  {
   "cell_type": "code",
   "execution_count": 31,
   "metadata": {},
   "outputs": [
    {
     "data": {
      "text/plain": [
       "Index(['customer_id', 'first_name', 'last_name', 'gender', 'address',\n",
       "       'postcode', 'state', 'DOB', 'job_title', 'job_industry_category',\n",
       "       'wealth_segment', 'owns_car', 'tenure', 'age', 'property_valuation',\n",
       "       'past_3_years_bike_related_purchases', 'product_id', 'transaction_date',\n",
       "       'online_order', 'brand', 'product_line', 'product_class',\n",
       "       'product_size', 'list_price', 'standard_cost',\n",
       "       'product_first_sold_date', 'trans_week_day', 'trans_day_num',\n",
       "       'trans_month_num', 'trans_month', 'trans_year'],\n",
       "      dtype='object')"
      ]
     },
     "execution_count": 31,
     "metadata": {},
     "output_type": "execute_result"
    }
   ],
   "source": [
    "kpmg_df.columns"
   ]
  },
  {
   "cell_type": "markdown",
   "metadata": {},
   "source": [
    "#### Top 5 buyers"
   ]
  },
  {
   "cell_type": "code",
   "execution_count": 32,
   "metadata": {},
   "outputs": [
    {
     "name": "stdout",
     "output_type": "stream",
     "text": [
      "2183    14\n",
      "1068    14\n",
      "2476    14\n",
      "3232    13\n",
      "3048    13\n",
      "Name: customer_id, dtype: int64\n"
     ]
    },
    {
     "data": {
      "text/html": [
       "<div>\n",
       "<style scoped>\n",
       "    .dataframe tbody tr th:only-of-type {\n",
       "        vertical-align: middle;\n",
       "    }\n",
       "\n",
       "    .dataframe tbody tr th {\n",
       "        vertical-align: top;\n",
       "    }\n",
       "\n",
       "    .dataframe thead th {\n",
       "        text-align: right;\n",
       "    }\n",
       "</style>\n",
       "<table border=\"1\" class=\"dataframe\">\n",
       "  <thead>\n",
       "    <tr style=\"text-align: right;\">\n",
       "      <th></th>\n",
       "      <th>customer_id</th>\n",
       "      <th>first_name</th>\n",
       "      <th>last_name</th>\n",
       "      <th>gender</th>\n",
       "      <th>address</th>\n",
       "      <th>postcode</th>\n",
       "      <th>state</th>\n",
       "      <th>DOB</th>\n",
       "      <th>job_title</th>\n",
       "      <th>job_industry_category</th>\n",
       "      <th>wealth_segment</th>\n",
       "      <th>owns_car</th>\n",
       "      <th>tenure</th>\n",
       "      <th>age</th>\n",
       "      <th>property_valuation</th>\n",
       "      <th>past_3_years_bike_related_purchases</th>\n",
       "    </tr>\n",
       "    <tr>\n",
       "      <th>transaction_id</th>\n",
       "      <th></th>\n",
       "      <th></th>\n",
       "      <th></th>\n",
       "      <th></th>\n",
       "      <th></th>\n",
       "      <th></th>\n",
       "      <th></th>\n",
       "      <th></th>\n",
       "      <th></th>\n",
       "      <th></th>\n",
       "      <th></th>\n",
       "      <th></th>\n",
       "      <th></th>\n",
       "      <th></th>\n",
       "      <th></th>\n",
       "      <th></th>\n",
       "    </tr>\n",
       "  </thead>\n",
       "  <tbody>\n",
       "    <tr>\n",
       "      <th>1068</th>\n",
       "      <td>2215</td>\n",
       "      <td>Viola</td>\n",
       "      <td>Wadhams</td>\n",
       "      <td>Female</td>\n",
       "      <td>6672 Butternut Avenue</td>\n",
       "      <td>3458</td>\n",
       "      <td>Victoria</td>\n",
       "      <td>1971-02-20</td>\n",
       "      <td>Structural Engineer</td>\n",
       "      <td>Financial Services</td>\n",
       "      <td>Mass Customer</td>\n",
       "      <td>Yes</td>\n",
       "      <td>18.0</td>\n",
       "      <td>50</td>\n",
       "      <td>6</td>\n",
       "      <td>50</td>\n",
       "    </tr>\n",
       "    <tr>\n",
       "      <th>2183</th>\n",
       "      <td>2340</td>\n",
       "      <td>Joachim</td>\n",
       "      <td>Amer</td>\n",
       "      <td>Male</td>\n",
       "      <td>29 Portage Street</td>\n",
       "      <td>4070</td>\n",
       "      <td>Queensland</td>\n",
       "      <td>1978-03-29</td>\n",
       "      <td>Research Assistant IV</td>\n",
       "      <td>Health</td>\n",
       "      <td>Mass Customer</td>\n",
       "      <td>Yes</td>\n",
       "      <td>16.0</td>\n",
       "      <td>43</td>\n",
       "      <td>7</td>\n",
       "      <td>33</td>\n",
       "    </tr>\n",
       "    <tr>\n",
       "      <th>2476</th>\n",
       "      <td>3055</td>\n",
       "      <td>Viki</td>\n",
       "      <td>Drache</td>\n",
       "      <td>Female</td>\n",
       "      <td>99142 Eastwood Way</td>\n",
       "      <td>4870</td>\n",
       "      <td>Queensland</td>\n",
       "      <td>1999-08-23</td>\n",
       "      <td>General Manager</td>\n",
       "      <td>Manufacturing</td>\n",
       "      <td>Mass Customer</td>\n",
       "      <td>Yes</td>\n",
       "      <td>2.0</td>\n",
       "      <td>21</td>\n",
       "      <td>6</td>\n",
       "      <td>96</td>\n",
       "    </tr>\n",
       "    <tr>\n",
       "      <th>3048</th>\n",
       "      <td>678</td>\n",
       "      <td>Ambur</td>\n",
       "      <td>Symcoxe</td>\n",
       "      <td>Female</td>\n",
       "      <td>96910 Sugar Point</td>\n",
       "      <td>4352</td>\n",
       "      <td>Queensland</td>\n",
       "      <td>1995-08-31</td>\n",
       "      <td>Accounting Assistant II</td>\n",
       "      <td>IT</td>\n",
       "      <td>High Net Worth</td>\n",
       "      <td>No</td>\n",
       "      <td>2.0</td>\n",
       "      <td>25</td>\n",
       "      <td>7</td>\n",
       "      <td>57</td>\n",
       "    </tr>\n",
       "    <tr>\n",
       "      <th>3232</th>\n",
       "      <td>2941</td>\n",
       "      <td>Emylee</td>\n",
       "      <td>Pavlov</td>\n",
       "      <td>Female</td>\n",
       "      <td>692 Anniversary Junction</td>\n",
       "      <td>4207</td>\n",
       "      <td>Queensland</td>\n",
       "      <td>1963-08-05</td>\n",
       "      <td>Sales Representative</td>\n",
       "      <td>Retail</td>\n",
       "      <td>Mass Customer</td>\n",
       "      <td>No</td>\n",
       "      <td>10.0</td>\n",
       "      <td>58</td>\n",
       "      <td>1</td>\n",
       "      <td>38</td>\n",
       "    </tr>\n",
       "  </tbody>\n",
       "</table>\n",
       "</div>"
      ],
      "text/plain": [
       "                customer_id first_name last_name  gender  \\\n",
       "transaction_id                                             \n",
       "1068                   2215      Viola   Wadhams  Female   \n",
       "2183                   2340    Joachim      Amer    Male   \n",
       "2476                   3055       Viki    Drache  Female   \n",
       "3048                    678      Ambur   Symcoxe  Female   \n",
       "3232                   2941     Emylee    Pavlov  Female   \n",
       "\n",
       "                                 address  postcode       state         DOB  \\\n",
       "transaction_id                                                               \n",
       "1068               6672 Butternut Avenue      3458    Victoria  1971-02-20   \n",
       "2183                   29 Portage Street      4070  Queensland  1978-03-29   \n",
       "2476                  99142 Eastwood Way      4870  Queensland  1999-08-23   \n",
       "3048                   96910 Sugar Point      4352  Queensland  1995-08-31   \n",
       "3232            692 Anniversary Junction      4207  Queensland  1963-08-05   \n",
       "\n",
       "                              job_title job_industry_category  wealth_segment  \\\n",
       "transaction_id                                                                  \n",
       "1068                Structural Engineer    Financial Services   Mass Customer   \n",
       "2183              Research Assistant IV                Health   Mass Customer   \n",
       "2476                    General Manager         Manufacturing   Mass Customer   \n",
       "3048            Accounting Assistant II                    IT  High Net Worth   \n",
       "3232               Sales Representative                Retail   Mass Customer   \n",
       "\n",
       "               owns_car  tenure  age  property_valuation  \\\n",
       "transaction_id                                             \n",
       "1068                Yes    18.0   50                   6   \n",
       "2183                Yes    16.0   43                   7   \n",
       "2476                Yes     2.0   21                   6   \n",
       "3048                 No     2.0   25                   7   \n",
       "3232                 No    10.0   58                   1   \n",
       "\n",
       "                past_3_years_bike_related_purchases  \n",
       "transaction_id                                       \n",
       "1068                                             50  \n",
       "2183                                             33  \n",
       "2476                                             96  \n",
       "3048                                             57  \n",
       "3232                                             38  "
      ]
     },
     "execution_count": 32,
     "metadata": {},
     "output_type": "execute_result"
    }
   ],
   "source": [
    "top_5 = kpmg_df['customer_id'].value_counts().iloc[:5]\n",
    "print(top_5)\n",
    "\n",
    "# details of top 5 buyers\n",
    "kpmg_df.loc[kpmg_df.index.isin(top_5.index), ['customer_id', 'first_name', 'last_name', 'gender', 'address',\n",
    "                                              'postcode', 'state', 'DOB', 'job_title',\n",
    "                                              'job_industry_category', 'wealth_segment', 'owns_car', 'tenure', 'age',\n",
    "                                              'property_valuation', 'past_3_years_bike_related_purchases'] ]"
   ]
  },
  {
   "cell_type": "code",
   "execution_count": 33,
   "metadata": {
    "scrolled": true
   },
   "outputs": [
    {
     "data": {
      "text/plain": [
       "<AxesSubplot:ylabel='customer_id'>"
      ]
     },
     "execution_count": 33,
     "metadata": {},
     "output_type": "execute_result"
    },
    {
     "data": {
      "image/png": "[encoded data removed]",
      "text/plain": [
       "<Figure size 432x288 with 1 Axes>"
      ]
     },
     "metadata": {
      "needs_background": "light"
     },
     "output_type": "display_data"
    }
   ],
   "source": [
    "# visualize result\n",
    "sns.barplot(x=top_5.index, y=top_5)"
   ]
  },
  {
   "cell_type": "markdown",
   "metadata": {},
   "source": [
    "<b>NOTE:<br>\n",
    "    The top three buyers have each bought 14 times</b>"
   ]
  },
  {
   "cell_type": "code",
   "execution_count": 34,
   "metadata": {},
   "outputs": [
    {
     "data": {
      "text/plain": [
       "Index(['customer_id', 'first_name', 'last_name', 'gender', 'address',\n",
       "       'postcode', 'state', 'DOB', 'job_title', 'job_industry_category',\n",
       "       'wealth_segment', 'owns_car', 'tenure', 'age', 'property_valuation',\n",
       "       'past_3_years_bike_related_purchases', 'product_id', 'transaction_date',\n",
       "       'online_order', 'brand', 'product_line', 'product_class',\n",
       "       'product_size', 'list_price', 'standard_cost',\n",
       "       'product_first_sold_date', 'trans_week_day', 'trans_day_num',\n",
       "       'trans_month_num', 'trans_month', 'trans_year'],\n",
       "      dtype='object')"
      ]
     },
     "execution_count": 34,
     "metadata": {},
     "output_type": "execute_result"
    }
   ],
   "source": [
    "kpmg_df.columns"
   ]
  },
  {
   "cell_type": "markdown",
   "metadata": {},
   "source": [
    "#### Popularity of online orders"
   ]
  },
  {
   "cell_type": "code",
   "execution_count": 35,
   "metadata": {},
   "outputs": [
    {
     "name": "stdout",
     "output_type": "stream",
     "text": [
      "object\n"
     ]
    },
    {
     "data": {
      "text/plain": [
       "True     9534\n",
       "False    9528\n",
       "None      347\n",
       "Name: online_order, dtype: int64"
      ]
     },
     "execution_count": 35,
     "metadata": {},
     "output_type": "execute_result"
    }
   ],
   "source": [
    "print(kpmg_df['online_order'].dtypes)\n",
    "onl_ord = kpmg_df['online_order'].value_counts()\n",
    "onl_ord"
   ]
  },
  {
   "cell_type": "code",
   "execution_count": 36,
   "metadata": {},
   "outputs": [
    {
     "data": {
      "text/plain": [
       "<AxesSubplot:ylabel='online_order'>"
      ]
     },
     "execution_count": 36,
     "metadata": {},
     "output_type": "execute_result"
    },
    {
     "data": {
      "image/png": "[encoded data removed]",
      "text/plain": [
       "<Figure size 432x288 with 1 Axes>"
      ]
     },
     "metadata": {
      "needs_background": "light"
     },
     "output_type": "display_data"
    }
   ],
   "source": [
    "sns.lineplot(x=onl_ord.index, y=onl_ord)\n",
    "sns.barplot(x=onl_ord.index, y=onl_ord)"
   ]
  },
  {
   "cell_type": "markdown",
   "metadata": {},
   "source": [
    "<b>NOTE:<br>\n",
    "    customers seem to make as many orders online as the do in person</b>"
   ]
  },
  {
   "cell_type": "markdown",
   "metadata": {},
   "source": [
    "#### Age distribution of buyers"
   ]
  },
  {
   "cell_type": "code",
   "execution_count": 37,
   "metadata": {},
   "outputs": [
    {
     "data": {
      "text/plain": [
       "(15.0, 100.0)"
      ]
     },
     "execution_count": 37,
     "metadata": {},
     "output_type": "execute_result"
    },
    {
     "data": {
      "image/png": "[encoded data removed]",
      "text/plain": [
       "<Figure size 900x450 with 1 Axes>"
      ]
     },
     "metadata": {
      "needs_background": "light"
     },
     "output_type": "display_data"
    }
   ],
   "source": [
    "plt.figure(figsize=(6, 3), dpi=150)\n",
    "sns.histplot(kpmg_df, x='age', bins=15)\n",
    "plt.xlim(left=15, right=100)"
   ]
  },
  {
   "cell_type": "markdown",
   "metadata": {},
   "source": [
    "<b>NOTE:<br>\n",
    "    Majority of buyers fall between ages 29 to 62"
   ]
  },
  {
   "cell_type": "code",
   "execution_count": 38,
   "metadata": {},
   "outputs": [
    {
     "data": {
      "text/plain": [
       "Index(['customer_id', 'first_name', 'last_name', 'gender', 'address',\n",
       "       'postcode', 'state', 'DOB', 'job_title', 'job_industry_category',\n",
       "       'wealth_segment', 'owns_car', 'tenure', 'age', 'property_valuation',\n",
       "       'past_3_years_bike_related_purchases', 'product_id', 'transaction_date',\n",
       "       'online_order', 'brand', 'product_line', 'product_class',\n",
       "       'product_size', 'list_price', 'standard_cost',\n",
       "       'product_first_sold_date', 'trans_week_day', 'trans_day_num',\n",
       "       'trans_month_num', 'trans_month', 'trans_year'],\n",
       "      dtype='object')"
      ]
     },
     "execution_count": 38,
     "metadata": {},
     "output_type": "execute_result"
    }
   ],
   "source": [
    "kpmg_df.columns"
   ]
  },
  {
   "cell_type": "markdown",
   "metadata": {},
   "source": [
    "#### STATE COLUMN"
   ]
  },
  {
   "cell_type": "code",
   "execution_count": 39,
   "metadata": {},
   "outputs": [
    {
     "data": {
      "text/plain": [
       "New South Wales    10356\n",
       "Victoria            4889\n",
       "Queensland          4164\n",
       "Name: state, dtype: int64"
      ]
     },
     "execution_count": 39,
     "metadata": {},
     "output_type": "execute_result"
    }
   ],
   "source": [
    "# Reorganising the state for data consistency\n",
    "# kpmg_df['state'] = kpmg_df['state'].str.replace('NSW', 'New South Wales').str.replace('VIC', 'Victoria').str.replace('QLD', 'Queensland')\n",
    "result = kpmg_df['state'].value_counts()\n",
    "result"
   ]
  },
  {
   "cell_type": "code",
   "execution_count": 40,
   "metadata": {},
   "outputs": [
    {
     "data": {
      "text/plain": [
       "<AxesSubplot:ylabel='state'>"
      ]
     },
     "execution_count": 40,
     "metadata": {},
     "output_type": "execute_result"
    },
    {
     "data": {
      "image/png": "[encoded data removed]",
      "text/plain": [
       "<Figure size 432x288 with 1 Axes>"
      ]
     },
     "metadata": {
      "needs_background": "light"
     },
     "output_type": "display_data"
    }
   ],
   "source": [
    "sns.lineplot(x=result.index, y=result)\n",
    "# plt.xticks(rotation=90, size=10);"
   ]
  },
  {
   "cell_type": "markdown",
   "metadata": {},
   "source": [
    "<b>NOTE:<br></b>\n",
    "    We can see that only three states bought our products: New South Wales, Victoria, Queensland<br>\n",
    "    Top buying state was New South Wales<br>\n",
    "    And the least buying state was Queensland"
   ]
  },
  {
   "cell_type": "code",
   "execution_count": 41,
   "metadata": {},
   "outputs": [
    {
     "data": {
      "text/plain": [
       "Index(['customer_id', 'first_name', 'last_name', 'gender', 'address',\n",
       "       'postcode', 'state', 'DOB', 'job_title', 'job_industry_category',\n",
       "       'wealth_segment', 'owns_car', 'tenure', 'age', 'property_valuation',\n",
       "       'past_3_years_bike_related_purchases', 'product_id', 'transaction_date',\n",
       "       'online_order', 'brand', 'product_line', 'product_class',\n",
       "       'product_size', 'list_price', 'standard_cost',\n",
       "       'product_first_sold_date', 'trans_week_day', 'trans_day_num',\n",
       "       'trans_month_num', 'trans_month', 'trans_year'],\n",
       "      dtype='object')"
      ]
     },
     "execution_count": 41,
     "metadata": {},
     "output_type": "execute_result"
    }
   ],
   "source": [
    "kpmg_df.columns"
   ]
  },
  {
   "cell_type": "markdown",
   "metadata": {},
   "source": [
    "#### HOW MANY BUYERS ARE CAR OWNERS?"
   ]
  },
  {
   "cell_type": "code",
   "execution_count": 42,
   "metadata": {},
   "outputs": [
    {
     "data": {
      "text/plain": [
       "Yes    9794\n",
       "No     9615\n",
       "Name: owns_car, dtype: int64"
      ]
     },
     "execution_count": 42,
     "metadata": {},
     "output_type": "execute_result"
    }
   ],
   "source": [
    "result = kpmg_df['owns_car'].value_counts()\n",
    "result"
   ]
  },
  {
   "cell_type": "code",
   "execution_count": 43,
   "metadata": {},
   "outputs": [
    {
     "data": {
      "text/plain": [
       "Text(0.5, 1.0, 'Buyers that own car(s)')"
      ]
     },
     "execution_count": 43,
     "metadata": {},
     "output_type": "execute_result"
    },
    {
     "data": {
      "image/png": "[encoded data removed]",
      "text/plain": [
       "<Figure size 432x288 with 1 Axes>"
      ]
     },
     "metadata": {
      "needs_background": "light"
     },
     "output_type": "display_data"
    }
   ],
   "source": [
    "sns.lineplot(x=result.index, y=result)\n",
    "plt.title(\"Buyers that own car(s)\")\n",
    "# plt.xticks(rotation=90, size=10);"
   ]
  },
  {
   "cell_type": "code",
   "execution_count": 44,
   "metadata": {},
   "outputs": [
    {
     "data": {
      "text/plain": [
       "Index(['customer_id', 'first_name', 'last_name', 'gender', 'address',\n",
       "       'postcode', 'state', 'DOB', 'job_title', 'job_industry_category',\n",
       "       'wealth_segment', 'owns_car', 'tenure', 'age', 'property_valuation',\n",
       "       'past_3_years_bike_related_purchases', 'product_id', 'transaction_date',\n",
       "       'online_order', 'brand', 'product_line', 'product_class',\n",
       "       'product_size', 'list_price', 'standard_cost',\n",
       "       'product_first_sold_date', 'trans_week_day', 'trans_day_num',\n",
       "       'trans_month_num', 'trans_month', 'trans_year'],\n",
       "      dtype='object')"
      ]
     },
     "execution_count": 44,
     "metadata": {},
     "output_type": "execute_result"
    }
   ],
   "source": [
    "kpmg_df.columns"
   ]
  },
  {
   "cell_type": "markdown",
   "metadata": {},
   "source": [
    "#### Create a Profit feature from list_price and standard_cost features"
   ]
  },
  {
   "cell_type": "code",
   "execution_count": 45,
   "metadata": {},
   "outputs": [
    {
     "name": "stdout",
     "output_type": "stream",
     "text": [
      "list_price       float64\n",
      "standard_cost    float64\n",
      "dtype: object\n"
     ]
    }
   ],
   "source": [
    "print(kpmg_df[['list_price', 'standard_cost']].dtypes)"
   ]
  },
  {
   "cell_type": "code",
   "execution_count": 46,
   "metadata": {},
   "outputs": [
    {
     "name": "stdout",
     "output_type": "stream",
     "text": [
      "count    19409.000000\n",
      "mean      1107.609131\n",
      "std        583.064161\n",
      "min         12.010000\n",
      "25%        575.270000\n",
      "50%       1163.890000\n",
      "75%       1635.300000\n",
      "max       2091.470000\n",
      "Name: list_price, dtype: float64\n",
      "\n",
      "count    19409.000000\n",
      "mean       556.143127\n",
      "std        405.898936\n",
      "min          7.210000\n",
      "25%        215.140000\n",
      "50%        507.580000\n",
      "75%        795.100000\n",
      "max       1759.850000\n",
      "Name: standard_cost, dtype: float64\n"
     ]
    }
   ],
   "source": [
    "print(kpmg_df['list_price'].describe())\n",
    "print()\n",
    "print(kpmg_df['standard_cost'].describe())"
   ]
  },
  {
   "cell_type": "code",
   "execution_count": 47,
   "metadata": {},
   "outputs": [
    {
     "data": {
      "text/html": [
       "<div>\n",
       "<style scoped>\n",
       "    .dataframe tbody tr th:only-of-type {\n",
       "        vertical-align: middle;\n",
       "    }\n",
       "\n",
       "    .dataframe tbody tr th {\n",
       "        vertical-align: top;\n",
       "    }\n",
       "\n",
       "    .dataframe thead th {\n",
       "        text-align: right;\n",
       "    }\n",
       "</style>\n",
       "<table border=\"1\" class=\"dataframe\">\n",
       "  <thead>\n",
       "    <tr style=\"text-align: right;\">\n",
       "      <th></th>\n",
       "      <th>standard_cost</th>\n",
       "    </tr>\n",
       "    <tr>\n",
       "      <th>transaction_id</th>\n",
       "      <th></th>\n",
       "    </tr>\n",
       "  </thead>\n",
       "  <tbody>\n",
       "    <tr>\n",
       "      <th>1</th>\n",
       "      <td>53.62</td>\n",
       "    </tr>\n",
       "    <tr>\n",
       "      <th>2</th>\n",
       "      <td>388.92</td>\n",
       "    </tr>\n",
       "    <tr>\n",
       "      <th>3</th>\n",
       "      <td>248.82</td>\n",
       "    </tr>\n",
       "    <tr>\n",
       "      <th>4</th>\n",
       "      <td>381.10</td>\n",
       "    </tr>\n",
       "    <tr>\n",
       "      <th>5</th>\n",
       "      <td>709.48</td>\n",
       "    </tr>\n",
       "  </tbody>\n",
       "</table>\n",
       "</div>"
      ],
      "text/plain": [
       "                standard_cost\n",
       "transaction_id               \n",
       "1                       53.62\n",
       "2                      388.92\n",
       "3                      248.82\n",
       "4                      381.10\n",
       "5                      709.48"
      ]
     },
     "execution_count": 47,
     "metadata": {},
     "output_type": "execute_result"
    }
   ],
   "source": [
    "kpmg_df[['standard_cost']].head()"
   ]
  },
  {
   "cell_type": "code",
   "execution_count": 57,
   "metadata": {},
   "outputs": [
    {
     "data": {
      "text/plain": [
       "transaction_id\n",
       "1      17.87\n",
       "2    1702.55\n",
       "3    1544.61\n",
       "4     817.36\n",
       "5    1055.82\n",
       "Name: trans_profit, dtype: float64"
      ]
     },
     "execution_count": 57,
     "metadata": {},
     "output_type": "execute_result"
    }
   ],
   "source": [
    "# As we can see from above, standard cost column contains\n",
    "# '$' and ',' characters\n",
    "# which we must remove\n",
    "trans_profit = kpmg_df['list_price'] - kpmg_df['standard_cost']#.str.replace(',', '').apply(lambda row: float(row[1:]))\n",
    "trans_profit.name = 'trans_profit'\n",
    "trans_profit.head()"
   ]
  },
  {
   "cell_type": "code",
   "execution_count": 58,
   "metadata": {},
   "outputs": [
    {
     "data": {
      "text/plain": [
       "count    19409.000000\n",
       "mean       551.466003\n",
       "std        493.371260\n",
       "min          4.800000\n",
       "25%        133.780000\n",
       "50%        445.210000\n",
       "75%        830.240000\n",
       "max       1702.550000\n",
       "Name: trans_profit, dtype: float64"
      ]
     },
     "execution_count": 58,
     "metadata": {},
     "output_type": "execute_result"
    }
   ],
   "source": [
    "trans_profit.describe()"
   ]
  },
  {
   "cell_type": "markdown",
   "metadata": {},
   "source": [
    "#### Our most profitable transaction in history"
   ]
  },
  {
   "cell_type": "code",
   "execution_count": 61,
   "metadata": {},
   "outputs": [
    {
     "data": {
      "text/plain": [
       "transaction_id\n",
       "2598     1702.55\n",
       "1885     1702.55\n",
       "1363     1702.55\n",
       "11225    1702.55\n",
       "1360     1702.55\n",
       "18470    1702.55\n",
       "18471    1702.55\n",
       "7598     1702.55\n",
       "6811     1702.55\n",
       "13817    1702.55\n",
       "Name: trans_profit, dtype: float64"
      ]
     },
     "execution_count": 61,
     "metadata": {},
     "output_type": "execute_result"
    }
   ],
   "source": [
    "trans_profit = trans_profit.sort_values(ascending=False)\n",
    "trans_profit.iloc[:10]"
   ]
  },
  {
   "cell_type": "code",
   "execution_count": 62,
   "metadata": {
    "scrolled": true
   },
   "outputs": [
    {
     "data": {
      "text/html": [
       "<div>\n",
       "<style scoped>\n",
       "    .dataframe tbody tr th:only-of-type {\n",
       "        vertical-align: middle;\n",
       "    }\n",
       "\n",
       "    .dataframe tbody tr th {\n",
       "        vertical-align: top;\n",
       "    }\n",
       "\n",
       "    .dataframe thead th {\n",
       "        text-align: right;\n",
       "    }\n",
       "</style>\n",
       "<table border=\"1\" class=\"dataframe\">\n",
       "  <thead>\n",
       "    <tr style=\"text-align: right;\">\n",
       "      <th></th>\n",
       "      <th>customer_id</th>\n",
       "      <th>first_name</th>\n",
       "      <th>last_name</th>\n",
       "      <th>gender</th>\n",
       "      <th>address</th>\n",
       "      <th>postcode</th>\n",
       "      <th>state</th>\n",
       "      <th>DOB</th>\n",
       "      <th>job_title</th>\n",
       "      <th>job_industry_category</th>\n",
       "      <th>...</th>\n",
       "      <th>product_class</th>\n",
       "      <th>product_size</th>\n",
       "      <th>list_price</th>\n",
       "      <th>standard_cost</th>\n",
       "      <th>product_first_sold_date</th>\n",
       "      <th>trans_week_day</th>\n",
       "      <th>trans_day_num</th>\n",
       "      <th>trans_month_num</th>\n",
       "      <th>trans_month</th>\n",
       "      <th>trans_year</th>\n",
       "    </tr>\n",
       "    <tr>\n",
       "      <th>transaction_id</th>\n",
       "      <th></th>\n",
       "      <th></th>\n",
       "      <th></th>\n",
       "      <th></th>\n",
       "      <th></th>\n",
       "      <th></th>\n",
       "      <th></th>\n",
       "      <th></th>\n",
       "      <th></th>\n",
       "      <th></th>\n",
       "      <th></th>\n",
       "      <th></th>\n",
       "      <th></th>\n",
       "      <th></th>\n",
       "      <th></th>\n",
       "      <th></th>\n",
       "      <th></th>\n",
       "      <th></th>\n",
       "      <th></th>\n",
       "      <th></th>\n",
       "      <th></th>\n",
       "    </tr>\n",
       "  </thead>\n",
       "  <tbody>\n",
       "    <tr>\n",
       "      <th>1360</th>\n",
       "      <td>3289</td>\n",
       "      <td>Frederico</td>\n",
       "      <td>Spearman</td>\n",
       "      <td>Male</td>\n",
       "      <td>8107 Coolidge Pass</td>\n",
       "      <td>2075</td>\n",
       "      <td>New South Wales</td>\n",
       "      <td>1978-01-04</td>\n",
       "      <td>Assistant Manager</td>\n",
       "      <td>Property</td>\n",
       "      <td>...</td>\n",
       "      <td>medium</td>\n",
       "      <td>large</td>\n",
       "      <td>2091.47</td>\n",
       "      <td>388.92</td>\n",
       "      <td>2011-05-07</td>\n",
       "      <td>Thursday</td>\n",
       "      <td>17</td>\n",
       "      <td>8</td>\n",
       "      <td>August</td>\n",
       "      <td>2017</td>\n",
       "    </tr>\n",
       "    <tr>\n",
       "      <th>1363</th>\n",
       "      <td>2347</td>\n",
       "      <td>L;urette</td>\n",
       "      <td>Annott</td>\n",
       "      <td>Female</td>\n",
       "      <td>1081 Laurel Park</td>\n",
       "      <td>2049</td>\n",
       "      <td>New South Wales</td>\n",
       "      <td>1957-03-04</td>\n",
       "      <td>Programmer Analyst I</td>\n",
       "      <td>Financial Services</td>\n",
       "      <td>...</td>\n",
       "      <td>medium</td>\n",
       "      <td>large</td>\n",
       "      <td>2091.47</td>\n",
       "      <td>388.92</td>\n",
       "      <td>2012-09-15</td>\n",
       "      <td>Monday</td>\n",
       "      <td>15</td>\n",
       "      <td>5</td>\n",
       "      <td>May</td>\n",
       "      <td>2017</td>\n",
       "    </tr>\n",
       "    <tr>\n",
       "      <th>1885</th>\n",
       "      <td>2560</td>\n",
       "      <td>Sherm</td>\n",
       "      <td>Tythe</td>\n",
       "      <td>Male</td>\n",
       "      <td>583 Eagle Crest Road</td>\n",
       "      <td>2000</td>\n",
       "      <td>New South Wales</td>\n",
       "      <td>1980-10-01</td>\n",
       "      <td>Developer IV</td>\n",
       "      <td>Manufacturing</td>\n",
       "      <td>...</td>\n",
       "      <td>medium</td>\n",
       "      <td>large</td>\n",
       "      <td>2091.47</td>\n",
       "      <td>388.92</td>\n",
       "      <td>2012-09-15</td>\n",
       "      <td>Sunday</td>\n",
       "      <td>30</td>\n",
       "      <td>4</td>\n",
       "      <td>April</td>\n",
       "      <td>2017</td>\n",
       "    </tr>\n",
       "    <tr>\n",
       "      <th>2598</th>\n",
       "      <td>2506</td>\n",
       "      <td>Arlana</td>\n",
       "      <td>Ferrick</td>\n",
       "      <td>Female</td>\n",
       "      <td>99488 Mccormick Terrace</td>\n",
       "      <td>2207</td>\n",
       "      <td>New South Wales</td>\n",
       "      <td>1955-01-20</td>\n",
       "      <td>Social Worker</td>\n",
       "      <td>Health</td>\n",
       "      <td>...</td>\n",
       "      <td>medium</td>\n",
       "      <td>large</td>\n",
       "      <td>2091.47</td>\n",
       "      <td>388.92</td>\n",
       "      <td>2012-09-15</td>\n",
       "      <td>Saturday</td>\n",
       "      <td>18</td>\n",
       "      <td>2</td>\n",
       "      <td>February</td>\n",
       "      <td>2017</td>\n",
       "    </tr>\n",
       "    <tr>\n",
       "      <th>6811</th>\n",
       "      <td>1391</td>\n",
       "      <td>Winni</td>\n",
       "      <td>Cana</td>\n",
       "      <td>Female</td>\n",
       "      <td>220 Mitchell Place</td>\n",
       "      <td>3099</td>\n",
       "      <td>Victoria</td>\n",
       "      <td>1976-08-05</td>\n",
       "      <td>Marketing Assistant</td>\n",
       "      <td>Retail</td>\n",
       "      <td>...</td>\n",
       "      <td>medium</td>\n",
       "      <td>large</td>\n",
       "      <td>2091.47</td>\n",
       "      <td>388.92</td>\n",
       "      <td>2012-09-15</td>\n",
       "      <td>Saturday</td>\n",
       "      <td>21</td>\n",
       "      <td>10</td>\n",
       "      <td>October</td>\n",
       "      <td>2017</td>\n",
       "    </tr>\n",
       "    <tr>\n",
       "      <th>7598</th>\n",
       "      <td>3249</td>\n",
       "      <td>Cortney</td>\n",
       "      <td>Leet</td>\n",
       "      <td>Female</td>\n",
       "      <td>49 Surrey Pass</td>\n",
       "      <td>2325</td>\n",
       "      <td>New South Wales</td>\n",
       "      <td>1981-08-23</td>\n",
       "      <td>Analog Circuit Design manager</td>\n",
       "      <td>Manufacturing</td>\n",
       "      <td>...</td>\n",
       "      <td>medium</td>\n",
       "      <td>large</td>\n",
       "      <td>2091.47</td>\n",
       "      <td>388.92</td>\n",
       "      <td>1999-12-04</td>\n",
       "      <td>Friday</td>\n",
       "      <td>9</td>\n",
       "      <td>6</td>\n",
       "      <td>June</td>\n",
       "      <td>2017</td>\n",
       "    </tr>\n",
       "    <tr>\n",
       "      <th>11225</th>\n",
       "      <td>2070</td>\n",
       "      <td>Tiphany</td>\n",
       "      <td>Leppington</td>\n",
       "      <td>Female</td>\n",
       "      <td>7949 Waywood Way</td>\n",
       "      <td>2318</td>\n",
       "      <td>New South Wales</td>\n",
       "      <td>1981-12-05</td>\n",
       "      <td>Recruiting Manager</td>\n",
       "      <td>Manufacturing</td>\n",
       "      <td>...</td>\n",
       "      <td>medium</td>\n",
       "      <td>large</td>\n",
       "      <td>2091.47</td>\n",
       "      <td>388.92</td>\n",
       "      <td>2006-05-22</td>\n",
       "      <td>Thursday</td>\n",
       "      <td>16</td>\n",
       "      <td>2</td>\n",
       "      <td>February</td>\n",
       "      <td>2017</td>\n",
       "    </tr>\n",
       "    <tr>\n",
       "      <th>13817</th>\n",
       "      <td>1410</td>\n",
       "      <td>Althea</td>\n",
       "      <td>Macvey</td>\n",
       "      <td>Female</td>\n",
       "      <td>4370 Haas Trail</td>\n",
       "      <td>2870</td>\n",
       "      <td>New South Wales</td>\n",
       "      <td>1997-01-22</td>\n",
       "      <td>Marketing Manager</td>\n",
       "      <td>Retail</td>\n",
       "      <td>...</td>\n",
       "      <td>medium</td>\n",
       "      <td>large</td>\n",
       "      <td>2091.47</td>\n",
       "      <td>388.92</td>\n",
       "      <td>2015-06-17</td>\n",
       "      <td>Friday</td>\n",
       "      <td>17</td>\n",
       "      <td>2</td>\n",
       "      <td>February</td>\n",
       "      <td>2017</td>\n",
       "    </tr>\n",
       "    <tr>\n",
       "      <th>18470</th>\n",
       "      <td>3494</td>\n",
       "      <td>Robers</td>\n",
       "      <td>Richen</td>\n",
       "      <td>Male</td>\n",
       "      <td>35 Chive Alley</td>\n",
       "      <td>2033</td>\n",
       "      <td>New South Wales</td>\n",
       "      <td>1998-12-24</td>\n",
       "      <td>Account Representative IV</td>\n",
       "      <td>Argiculture</td>\n",
       "      <td>...</td>\n",
       "      <td>medium</td>\n",
       "      <td>large</td>\n",
       "      <td>2091.47</td>\n",
       "      <td>388.92</td>\n",
       "      <td>2012-09-15</td>\n",
       "      <td>Saturday</td>\n",
       "      <td>8</td>\n",
       "      <td>4</td>\n",
       "      <td>April</td>\n",
       "      <td>2017</td>\n",
       "    </tr>\n",
       "    <tr>\n",
       "      <th>18471</th>\n",
       "      <td>3361</td>\n",
       "      <td>Riva</td>\n",
       "      <td>Yushin</td>\n",
       "      <td>Female</td>\n",
       "      <td>7330 Helena Pass</td>\n",
       "      <td>2176</td>\n",
       "      <td>New South Wales</td>\n",
       "      <td>1968-01-20</td>\n",
       "      <td>General Manager</td>\n",
       "      <td>Property</td>\n",
       "      <td>...</td>\n",
       "      <td>medium</td>\n",
       "      <td>large</td>\n",
       "      <td>2091.47</td>\n",
       "      <td>388.92</td>\n",
       "      <td>1998-12-17</td>\n",
       "      <td>Sunday</td>\n",
       "      <td>29</td>\n",
       "      <td>1</td>\n",
       "      <td>January</td>\n",
       "      <td>2017</td>\n",
       "    </tr>\n",
       "  </tbody>\n",
       "</table>\n",
       "<p>10 rows × 31 columns</p>\n",
       "</div>"
      ],
      "text/plain": [
       "                customer_id first_name   last_name  gender  \\\n",
       "transaction_id                                               \n",
       "1360                   3289  Frederico    Spearman    Male   \n",
       "1363                   2347   L;urette      Annott  Female   \n",
       "1885                   2560      Sherm       Tythe    Male   \n",
       "2598                   2506     Arlana     Ferrick  Female   \n",
       "6811                   1391      Winni        Cana  Female   \n",
       "7598                   3249    Cortney        Leet  Female   \n",
       "11225                  2070    Tiphany  Leppington  Female   \n",
       "13817                  1410     Althea      Macvey  Female   \n",
       "18470                  3494     Robers      Richen    Male   \n",
       "18471                  3361       Riva      Yushin  Female   \n",
       "\n",
       "                                address  postcode            state  \\\n",
       "transaction_id                                                       \n",
       "1360                 8107 Coolidge Pass      2075  New South Wales   \n",
       "1363                   1081 Laurel Park      2049  New South Wales   \n",
       "1885               583 Eagle Crest Road      2000  New South Wales   \n",
       "2598            99488 Mccormick Terrace      2207  New South Wales   \n",
       "6811                 220 Mitchell Place      3099         Victoria   \n",
       "7598                     49 Surrey Pass      2325  New South Wales   \n",
       "11225                  7949 Waywood Way      2318  New South Wales   \n",
       "13817                   4370 Haas Trail      2870  New South Wales   \n",
       "18470                    35 Chive Alley      2033  New South Wales   \n",
       "18471                  7330 Helena Pass      2176  New South Wales   \n",
       "\n",
       "                       DOB                      job_title  \\\n",
       "transaction_id                                              \n",
       "1360            1978-01-04              Assistant Manager   \n",
       "1363            1957-03-04           Programmer Analyst I   \n",
       "1885            1980-10-01                   Developer IV   \n",
       "2598            1955-01-20                  Social Worker   \n",
       "6811            1976-08-05            Marketing Assistant   \n",
       "7598            1981-08-23  Analog Circuit Design manager   \n",
       "11225           1981-12-05             Recruiting Manager   \n",
       "13817           1997-01-22              Marketing Manager   \n",
       "18470           1998-12-24      Account Representative IV   \n",
       "18471           1968-01-20                General Manager   \n",
       "\n",
       "               job_industry_category  ... product_class product_size  \\\n",
       "transaction_id                        ...                              \n",
       "1360                        Property  ...        medium        large   \n",
       "1363              Financial Services  ...        medium        large   \n",
       "1885                   Manufacturing  ...        medium        large   \n",
       "2598                          Health  ...        medium        large   \n",
       "6811                          Retail  ...        medium        large   \n",
       "7598                   Manufacturing  ...        medium        large   \n",
       "11225                  Manufacturing  ...        medium        large   \n",
       "13817                         Retail  ...        medium        large   \n",
       "18470                    Argiculture  ...        medium        large   \n",
       "18471                       Property  ...        medium        large   \n",
       "\n",
       "                list_price  standard_cost  product_first_sold_date  \\\n",
       "transaction_id                                                       \n",
       "1360               2091.47         388.92               2011-05-07   \n",
       "1363               2091.47         388.92               2012-09-15   \n",
       "1885               2091.47         388.92               2012-09-15   \n",
       "2598               2091.47         388.92               2012-09-15   \n",
       "6811               2091.47         388.92               2012-09-15   \n",
       "7598               2091.47         388.92               1999-12-04   \n",
       "11225              2091.47         388.92               2006-05-22   \n",
       "13817              2091.47         388.92               2015-06-17   \n",
       "18470              2091.47         388.92               2012-09-15   \n",
       "18471              2091.47         388.92               1998-12-17   \n",
       "\n",
       "                trans_week_day  trans_day_num trans_month_num trans_month  \\\n",
       "transaction_id                                                              \n",
       "1360                  Thursday             17               8      August   \n",
       "1363                    Monday             15               5         May   \n",
       "1885                    Sunday             30               4       April   \n",
       "2598                  Saturday             18               2    February   \n",
       "6811                  Saturday             21              10     October   \n",
       "7598                    Friday              9               6        June   \n",
       "11225                 Thursday             16               2    February   \n",
       "13817                   Friday             17               2    February   \n",
       "18470                 Saturday              8               4       April   \n",
       "18471                   Sunday             29               1     January   \n",
       "\n",
       "               trans_year  \n",
       "transaction_id             \n",
       "1360                 2017  \n",
       "1363                 2017  \n",
       "1885                 2017  \n",
       "2598                 2017  \n",
       "6811                 2017  \n",
       "7598                 2017  \n",
       "11225                2017  \n",
       "13817                2017  \n",
       "18470                2017  \n",
       "18471                2017  \n",
       "\n",
       "[10 rows x 31 columns]"
      ]
     },
     "execution_count": 62,
     "metadata": {},
     "output_type": "execute_result"
    }
   ],
   "source": [
    "kpmg_df.loc[kpmg_df.index.isin(trans_profit.iloc[:10].index)]"
   ]
  },
  {
   "cell_type": "markdown",
   "metadata": {},
   "source": [
    "#### Top 3 most profitable customers"
   ]
  },
  {
   "cell_type": "code",
   "execution_count": 63,
   "metadata": {},
   "outputs": [
    {
     "data": {
      "text/html": [
       "<div>\n",
       "<style scoped>\n",
       "    .dataframe tbody tr th:only-of-type {\n",
       "        vertical-align: middle;\n",
       "    }\n",
       "\n",
       "    .dataframe tbody tr th {\n",
       "        vertical-align: top;\n",
       "    }\n",
       "\n",
       "    .dataframe thead th {\n",
       "        text-align: right;\n",
       "    }\n",
       "</style>\n",
       "<table border=\"1\" class=\"dataframe\">\n",
       "  <thead>\n",
       "    <tr style=\"text-align: right;\">\n",
       "      <th></th>\n",
       "      <th>customer_id</th>\n",
       "      <th>first_name</th>\n",
       "      <th>last_name</th>\n",
       "      <th>gender</th>\n",
       "      <th>address</th>\n",
       "      <th>postcode</th>\n",
       "      <th>state</th>\n",
       "      <th>DOB</th>\n",
       "      <th>job_title</th>\n",
       "      <th>job_industry_category</th>\n",
       "      <th>...</th>\n",
       "      <th>product_size</th>\n",
       "      <th>list_price</th>\n",
       "      <th>standard_cost</th>\n",
       "      <th>product_first_sold_date</th>\n",
       "      <th>trans_week_day</th>\n",
       "      <th>trans_day_num</th>\n",
       "      <th>trans_month_num</th>\n",
       "      <th>trans_month</th>\n",
       "      <th>trans_year</th>\n",
       "      <th>trans_profit</th>\n",
       "    </tr>\n",
       "    <tr>\n",
       "      <th>transaction_id</th>\n",
       "      <th></th>\n",
       "      <th></th>\n",
       "      <th></th>\n",
       "      <th></th>\n",
       "      <th></th>\n",
       "      <th></th>\n",
       "      <th></th>\n",
       "      <th></th>\n",
       "      <th></th>\n",
       "      <th></th>\n",
       "      <th></th>\n",
       "      <th></th>\n",
       "      <th></th>\n",
       "      <th></th>\n",
       "      <th></th>\n",
       "      <th></th>\n",
       "      <th></th>\n",
       "      <th></th>\n",
       "      <th></th>\n",
       "      <th></th>\n",
       "      <th></th>\n",
       "    </tr>\n",
       "  </thead>\n",
       "  <tbody>\n",
       "    <tr>\n",
       "      <th>1</th>\n",
       "      <td>2950</td>\n",
       "      <td>Kristos</td>\n",
       "      <td>Anthony</td>\n",
       "      <td>Male</td>\n",
       "      <td>984 Hoepker Court</td>\n",
       "      <td>3064</td>\n",
       "      <td>Victoria</td>\n",
       "      <td>1955-01-11</td>\n",
       "      <td>Software Engineer I</td>\n",
       "      <td>Financial Services</td>\n",
       "      <td>...</td>\n",
       "      <td>medium</td>\n",
       "      <td>71.49</td>\n",
       "      <td>53.62</td>\n",
       "      <td>2012-12-02</td>\n",
       "      <td>Saturday</td>\n",
       "      <td>25</td>\n",
       "      <td>2</td>\n",
       "      <td>February</td>\n",
       "      <td>2017</td>\n",
       "      <td>17.87</td>\n",
       "    </tr>\n",
       "    <tr>\n",
       "      <th>2</th>\n",
       "      <td>3120</td>\n",
       "      <td>Lauree</td>\n",
       "      <td>O'Donnell</td>\n",
       "      <td>Female</td>\n",
       "      <td>4 Shopko Circle</td>\n",
       "      <td>2196</td>\n",
       "      <td>New South Wales</td>\n",
       "      <td>1979-02-04</td>\n",
       "      <td>Clinical Specialist</td>\n",
       "      <td>Health</td>\n",
       "      <td>...</td>\n",
       "      <td>large</td>\n",
       "      <td>2091.47</td>\n",
       "      <td>388.92</td>\n",
       "      <td>2014-03-03</td>\n",
       "      <td>Sunday</td>\n",
       "      <td>21</td>\n",
       "      <td>5</td>\n",
       "      <td>May</td>\n",
       "      <td>2017</td>\n",
       "      <td>1702.55</td>\n",
       "    </tr>\n",
       "    <tr>\n",
       "      <th>3</th>\n",
       "      <td>402</td>\n",
       "      <td>Berne</td>\n",
       "      <td>Donegan</td>\n",
       "      <td>Male</td>\n",
       "      <td>586 Miller Parkway</td>\n",
       "      <td>2835</td>\n",
       "      <td>New South Wales</td>\n",
       "      <td>1977-06-03</td>\n",
       "      <td>Desktop Support Technician</td>\n",
       "      <td>Retail</td>\n",
       "      <td>...</td>\n",
       "      <td>medium</td>\n",
       "      <td>1793.43</td>\n",
       "      <td>248.82</td>\n",
       "      <td>1999-07-20</td>\n",
       "      <td>Monday</td>\n",
       "      <td>16</td>\n",
       "      <td>10</td>\n",
       "      <td>October</td>\n",
       "      <td>2017</td>\n",
       "      <td>1544.61</td>\n",
       "    </tr>\n",
       "    <tr>\n",
       "      <th>4</th>\n",
       "      <td>3135</td>\n",
       "      <td>Titus</td>\n",
       "      <td>Worsall</td>\n",
       "      <td>Male</td>\n",
       "      <td>1617 Harper Parkway</td>\n",
       "      <td>2096</td>\n",
       "      <td>New South Wales</td>\n",
       "      <td>1962-01-14</td>\n",
       "      <td>Staff Scientist</td>\n",
       "      <td>Financial Services</td>\n",
       "      <td>...</td>\n",
       "      <td>medium</td>\n",
       "      <td>1198.46</td>\n",
       "      <td>381.10</td>\n",
       "      <td>1998-12-16</td>\n",
       "      <td>Thursday</td>\n",
       "      <td>31</td>\n",
       "      <td>8</td>\n",
       "      <td>August</td>\n",
       "      <td>2017</td>\n",
       "      <td>817.36</td>\n",
       "    </tr>\n",
       "    <tr>\n",
       "      <th>5</th>\n",
       "      <td>787</td>\n",
       "      <td>Norma</td>\n",
       "      <td>Batrim</td>\n",
       "      <td>Female</td>\n",
       "      <td>0601 Stephen Place</td>\n",
       "      <td>2292</td>\n",
       "      <td>New South Wales</td>\n",
       "      <td>1996-12-15</td>\n",
       "      <td>Sales Representative</td>\n",
       "      <td>Retail</td>\n",
       "      <td>...</td>\n",
       "      <td>large</td>\n",
       "      <td>1765.30</td>\n",
       "      <td>709.48</td>\n",
       "      <td>2015-08-10</td>\n",
       "      <td>Sunday</td>\n",
       "      <td>1</td>\n",
       "      <td>10</td>\n",
       "      <td>October</td>\n",
       "      <td>2017</td>\n",
       "      <td>1055.82</td>\n",
       "    </tr>\n",
       "  </tbody>\n",
       "</table>\n",
       "<p>5 rows × 32 columns</p>\n",
       "</div>"
      ],
      "text/plain": [
       "                customer_id first_name  last_name  gender  \\\n",
       "transaction_id                                              \n",
       "1                      2950    Kristos    Anthony    Male   \n",
       "2                      3120     Lauree  O'Donnell  Female   \n",
       "3                       402      Berne    Donegan    Male   \n",
       "4                      3135      Titus    Worsall    Male   \n",
       "5                       787      Norma     Batrim  Female   \n",
       "\n",
       "                            address  postcode            state         DOB  \\\n",
       "transaction_id                                                               \n",
       "1                 984 Hoepker Court      3064         Victoria  1955-01-11   \n",
       "2                   4 Shopko Circle      2196  New South Wales  1979-02-04   \n",
       "3                586 Miller Parkway      2835  New South Wales  1977-06-03   \n",
       "4               1617 Harper Parkway      2096  New South Wales  1962-01-14   \n",
       "5                0601 Stephen Place      2292  New South Wales  1996-12-15   \n",
       "\n",
       "                                 job_title job_industry_category  ...  \\\n",
       "transaction_id                                                    ...   \n",
       "1                      Software Engineer I    Financial Services  ...   \n",
       "2                      Clinical Specialist                Health  ...   \n",
       "3               Desktop Support Technician                Retail  ...   \n",
       "4                          Staff Scientist    Financial Services  ...   \n",
       "5                     Sales Representative                Retail  ...   \n",
       "\n",
       "               product_size list_price  standard_cost  \\\n",
       "transaction_id                                          \n",
       "1                    medium      71.49          53.62   \n",
       "2                     large    2091.47         388.92   \n",
       "3                    medium    1793.43         248.82   \n",
       "4                    medium    1198.46         381.10   \n",
       "5                     large    1765.30         709.48   \n",
       "\n",
       "                product_first_sold_date  trans_week_day  trans_day_num  \\\n",
       "transaction_id                                                           \n",
       "1                            2012-12-02        Saturday             25   \n",
       "2                            2014-03-03          Sunday             21   \n",
       "3                            1999-07-20          Monday             16   \n",
       "4                            1998-12-16        Thursday             31   \n",
       "5                            2015-08-10          Sunday              1   \n",
       "\n",
       "                trans_month_num trans_month trans_year trans_profit  \n",
       "transaction_id                                                       \n",
       "1                             2    February       2017        17.87  \n",
       "2                             5         May       2017      1702.55  \n",
       "3                            10     October       2017      1544.61  \n",
       "4                             8      August       2017       817.36  \n",
       "5                            10     October       2017      1055.82  \n",
       "\n",
       "[5 rows x 32 columns]"
      ]
     },
     "execution_count": 63,
     "metadata": {},
     "output_type": "execute_result"
    }
   ],
   "source": [
    "analyze_df = pd.merge(left=kpmg_df, right=trans_profit, how='inner', left_index=True, right_index=True)\n",
    "analyze_df.head()"
   ]
  },
  {
   "cell_type": "markdown",
   "metadata": {},
   "source": [
    "#### Rearrange column order of the dataframe"
   ]
  },
  {
   "cell_type": "code",
   "execution_count": 64,
   "metadata": {
    "scrolled": true
   },
   "outputs": [
    {
     "data": {
      "text/plain": [
       "Index(['customer_id', 'first_name', 'last_name', 'gender', 'address',\n",
       "       'postcode', 'state', 'DOB', 'job_title', 'job_industry_category',\n",
       "       'wealth_segment', 'owns_car', 'tenure', 'age', 'property_valuation',\n",
       "       'past_3_years_bike_related_purchases', 'product_id', 'transaction_date',\n",
       "       'online_order', 'brand', 'product_line', 'product_class',\n",
       "       'product_size', 'list_price', 'standard_cost',\n",
       "       'product_first_sold_date', 'trans_week_day', 'trans_day_num',\n",
       "       'trans_month_num', 'trans_month', 'trans_year', 'trans_profit'],\n",
       "      dtype='object')"
      ]
     },
     "execution_count": 64,
     "metadata": {},
     "output_type": "execute_result"
    }
   ],
   "source": [
    "analyze_df.columns"
   ]
  },
  {
   "cell_type": "code",
   "execution_count": 65,
   "metadata": {},
   "outputs": [
    {
     "data": {
      "text/html": [
       "<div>\n",
       "<style scoped>\n",
       "    .dataframe tbody tr th:only-of-type {\n",
       "        vertical-align: middle;\n",
       "    }\n",
       "\n",
       "    .dataframe tbody tr th {\n",
       "        vertical-align: top;\n",
       "    }\n",
       "\n",
       "    .dataframe thead th {\n",
       "        text-align: right;\n",
       "    }\n",
       "</style>\n",
       "<table border=\"1\" class=\"dataframe\">\n",
       "  <thead>\n",
       "    <tr style=\"text-align: right;\">\n",
       "      <th></th>\n",
       "      <th>customer_id</th>\n",
       "      <th>first_name</th>\n",
       "      <th>last_name</th>\n",
       "      <th>gender</th>\n",
       "      <th>address</th>\n",
       "      <th>postcode</th>\n",
       "      <th>state</th>\n",
       "      <th>DOB</th>\n",
       "      <th>job_title</th>\n",
       "      <th>job_industry_category</th>\n",
       "      <th>...</th>\n",
       "      <th>product_size</th>\n",
       "      <th>product_first_sold_date</th>\n",
       "      <th>trans_week_day</th>\n",
       "      <th>trans_day_num</th>\n",
       "      <th>trans_month_num</th>\n",
       "      <th>trans_month</th>\n",
       "      <th>trans_year</th>\n",
       "      <th>standard_cost</th>\n",
       "      <th>list_price</th>\n",
       "      <th>trans_profit</th>\n",
       "    </tr>\n",
       "    <tr>\n",
       "      <th>transaction_id</th>\n",
       "      <th></th>\n",
       "      <th></th>\n",
       "      <th></th>\n",
       "      <th></th>\n",
       "      <th></th>\n",
       "      <th></th>\n",
       "      <th></th>\n",
       "      <th></th>\n",
       "      <th></th>\n",
       "      <th></th>\n",
       "      <th></th>\n",
       "      <th></th>\n",
       "      <th></th>\n",
       "      <th></th>\n",
       "      <th></th>\n",
       "      <th></th>\n",
       "      <th></th>\n",
       "      <th></th>\n",
       "      <th></th>\n",
       "      <th></th>\n",
       "      <th></th>\n",
       "    </tr>\n",
       "  </thead>\n",
       "  <tbody>\n",
       "    <tr>\n",
       "      <th>1</th>\n",
       "      <td>2950</td>\n",
       "      <td>Kristos</td>\n",
       "      <td>Anthony</td>\n",
       "      <td>Male</td>\n",
       "      <td>984 Hoepker Court</td>\n",
       "      <td>3064</td>\n",
       "      <td>Victoria</td>\n",
       "      <td>1955-01-11</td>\n",
       "      <td>Software Engineer I</td>\n",
       "      <td>Financial Services</td>\n",
       "      <td>...</td>\n",
       "      <td>medium</td>\n",
       "      <td>2012-12-02</td>\n",
       "      <td>Saturday</td>\n",
       "      <td>25</td>\n",
       "      <td>2</td>\n",
       "      <td>February</td>\n",
       "      <td>2017</td>\n",
       "      <td>53.62</td>\n",
       "      <td>71.49</td>\n",
       "      <td>17.87</td>\n",
       "    </tr>\n",
       "    <tr>\n",
       "      <th>2</th>\n",
       "      <td>3120</td>\n",
       "      <td>Lauree</td>\n",
       "      <td>O'Donnell</td>\n",
       "      <td>Female</td>\n",
       "      <td>4 Shopko Circle</td>\n",
       "      <td>2196</td>\n",
       "      <td>New South Wales</td>\n",
       "      <td>1979-02-04</td>\n",
       "      <td>Clinical Specialist</td>\n",
       "      <td>Health</td>\n",
       "      <td>...</td>\n",
       "      <td>large</td>\n",
       "      <td>2014-03-03</td>\n",
       "      <td>Sunday</td>\n",
       "      <td>21</td>\n",
       "      <td>5</td>\n",
       "      <td>May</td>\n",
       "      <td>2017</td>\n",
       "      <td>388.92</td>\n",
       "      <td>2091.47</td>\n",
       "      <td>1702.55</td>\n",
       "    </tr>\n",
       "    <tr>\n",
       "      <th>3</th>\n",
       "      <td>402</td>\n",
       "      <td>Berne</td>\n",
       "      <td>Donegan</td>\n",
       "      <td>Male</td>\n",
       "      <td>586 Miller Parkway</td>\n",
       "      <td>2835</td>\n",
       "      <td>New South Wales</td>\n",
       "      <td>1977-06-03</td>\n",
       "      <td>Desktop Support Technician</td>\n",
       "      <td>Retail</td>\n",
       "      <td>...</td>\n",
       "      <td>medium</td>\n",
       "      <td>1999-07-20</td>\n",
       "      <td>Monday</td>\n",
       "      <td>16</td>\n",
       "      <td>10</td>\n",
       "      <td>October</td>\n",
       "      <td>2017</td>\n",
       "      <td>248.82</td>\n",
       "      <td>1793.43</td>\n",
       "      <td>1544.61</td>\n",
       "    </tr>\n",
       "    <tr>\n",
       "      <th>4</th>\n",
       "      <td>3135</td>\n",
       "      <td>Titus</td>\n",
       "      <td>Worsall</td>\n",
       "      <td>Male</td>\n",
       "      <td>1617 Harper Parkway</td>\n",
       "      <td>2096</td>\n",
       "      <td>New South Wales</td>\n",
       "      <td>1962-01-14</td>\n",
       "      <td>Staff Scientist</td>\n",
       "      <td>Financial Services</td>\n",
       "      <td>...</td>\n",
       "      <td>medium</td>\n",
       "      <td>1998-12-16</td>\n",
       "      <td>Thursday</td>\n",
       "      <td>31</td>\n",
       "      <td>8</td>\n",
       "      <td>August</td>\n",
       "      <td>2017</td>\n",
       "      <td>381.10</td>\n",
       "      <td>1198.46</td>\n",
       "      <td>817.36</td>\n",
       "    </tr>\n",
       "    <tr>\n",
       "      <th>5</th>\n",
       "      <td>787</td>\n",
       "      <td>Norma</td>\n",
       "      <td>Batrim</td>\n",
       "      <td>Female</td>\n",
       "      <td>0601 Stephen Place</td>\n",
       "      <td>2292</td>\n",
       "      <td>New South Wales</td>\n",
       "      <td>1996-12-15</td>\n",
       "      <td>Sales Representative</td>\n",
       "      <td>Retail</td>\n",
       "      <td>...</td>\n",
       "      <td>large</td>\n",
       "      <td>2015-08-10</td>\n",
       "      <td>Sunday</td>\n",
       "      <td>1</td>\n",
       "      <td>10</td>\n",
       "      <td>October</td>\n",
       "      <td>2017</td>\n",
       "      <td>709.48</td>\n",
       "      <td>1765.30</td>\n",
       "      <td>1055.82</td>\n",
       "    </tr>\n",
       "  </tbody>\n",
       "</table>\n",
       "<p>5 rows × 32 columns</p>\n",
       "</div>"
      ],
      "text/plain": [
       "                customer_id first_name  last_name  gender  \\\n",
       "transaction_id                                              \n",
       "1                      2950    Kristos    Anthony    Male   \n",
       "2                      3120     Lauree  O'Donnell  Female   \n",
       "3                       402      Berne    Donegan    Male   \n",
       "4                      3135      Titus    Worsall    Male   \n",
       "5                       787      Norma     Batrim  Female   \n",
       "\n",
       "                            address  postcode            state         DOB  \\\n",
       "transaction_id                                                               \n",
       "1                 984 Hoepker Court      3064         Victoria  1955-01-11   \n",
       "2                   4 Shopko Circle      2196  New South Wales  1979-02-04   \n",
       "3                586 Miller Parkway      2835  New South Wales  1977-06-03   \n",
       "4               1617 Harper Parkway      2096  New South Wales  1962-01-14   \n",
       "5                0601 Stephen Place      2292  New South Wales  1996-12-15   \n",
       "\n",
       "                                 job_title job_industry_category  ...  \\\n",
       "transaction_id                                                    ...   \n",
       "1                      Software Engineer I    Financial Services  ...   \n",
       "2                      Clinical Specialist                Health  ...   \n",
       "3               Desktop Support Technician                Retail  ...   \n",
       "4                          Staff Scientist    Financial Services  ...   \n",
       "5                     Sales Representative                Retail  ...   \n",
       "\n",
       "               product_size product_first_sold_date  trans_week_day  \\\n",
       "transaction_id                                                        \n",
       "1                    medium              2012-12-02        Saturday   \n",
       "2                     large              2014-03-03          Sunday   \n",
       "3                    medium              1999-07-20          Monday   \n",
       "4                    medium              1998-12-16        Thursday   \n",
       "5                     large              2015-08-10          Sunday   \n",
       "\n",
       "                trans_day_num  trans_month_num  trans_month  trans_year  \\\n",
       "transaction_id                                                            \n",
       "1                          25                2     February        2017   \n",
       "2                          21                5          May        2017   \n",
       "3                          16               10      October        2017   \n",
       "4                          31                8       August        2017   \n",
       "5                           1               10      October        2017   \n",
       "\n",
       "               standard_cost list_price trans_profit  \n",
       "transaction_id                                        \n",
       "1                      53.62      71.49        17.87  \n",
       "2                     388.92    2091.47      1702.55  \n",
       "3                     248.82    1793.43      1544.61  \n",
       "4                     381.10    1198.46       817.36  \n",
       "5                     709.48    1765.30      1055.82  \n",
       "\n",
       "[5 rows x 32 columns]"
      ]
     },
     "execution_count": 65,
     "metadata": {},
     "output_type": "execute_result"
    }
   ],
   "source": [
    "analyze_df = analyze_df[['customer_id', 'first_name', 'last_name', 'gender', 'address',\n",
    "                       'postcode', 'state', 'DOB', 'job_title', 'job_industry_category',\n",
    "                       'wealth_segment', 'owns_car', 'tenure', 'age', 'property_valuation',\n",
    "                       'past_3_years_bike_related_purchases', 'product_id', 'transaction_date',\n",
    "                       'online_order', 'brand', 'product_line', 'product_class',\n",
    "                       'product_size', 'product_first_sold_date', 'trans_week_day', 'trans_day_num',\n",
    "                       'trans_month_num', 'trans_month', 'trans_year',\n",
    "                        'standard_cost', 'list_price', 'trans_profit']]\n",
    "analyze_df.iloc[:5]"
   ]
  },
  {
   "cell_type": "markdown",
   "metadata": {},
   "source": [
    "#### Profit per Customer"
   ]
  },
  {
   "cell_type": "code",
   "execution_count": 72,
   "metadata": {},
   "outputs": [
    {
     "data": {
      "text/plain": [
       "3456"
      ]
     },
     "execution_count": 72,
     "metadata": {},
     "output_type": "execute_result"
    }
   ],
   "source": [
    "# number of customers\n",
    "analyze_df.drop_duplicates(subset='customer_id').shape[0]"
   ]
  },
  {
   "cell_type": "code",
   "execution_count": 73,
   "metadata": {},
   "outputs": [],
   "source": [
    "cust_profit = analyze_df[['customer_id', 'trans_profit']].groupby('customer_id').sum().sort_values('trans_profit', ascending=False)\n",
    "cust_profit = cust_profit.rename(mapper={'trans_profit': 'cust_profit'}, axis=1)"
   ]
  },
  {
   "cell_type": "code",
   "execution_count": 77,
   "metadata": {},
   "outputs": [
    {
     "data": {
      "text/html": [
       "<div>\n",
       "<style scoped>\n",
       "    .dataframe tbody tr th:only-of-type {\n",
       "        vertical-align: middle;\n",
       "    }\n",
       "\n",
       "    .dataframe tbody tr th {\n",
       "        vertical-align: top;\n",
       "    }\n",
       "\n",
       "    .dataframe thead th {\n",
       "        text-align: right;\n",
       "    }\n",
       "</style>\n",
       "<table border=\"1\" class=\"dataframe\">\n",
       "  <thead>\n",
       "    <tr style=\"text-align: right;\">\n",
       "      <th></th>\n",
       "      <th>cust_profit</th>\n",
       "    </tr>\n",
       "    <tr>\n",
       "      <th>customer_id</th>\n",
       "      <th></th>\n",
       "    </tr>\n",
       "  </thead>\n",
       "  <tbody>\n",
       "    <tr>\n",
       "      <th>1</th>\n",
       "      <td>3018.09</td>\n",
       "    </tr>\n",
       "    <tr>\n",
       "      <th>2</th>\n",
       "      <td>2226.26</td>\n",
       "    </tr>\n",
       "    <tr>\n",
       "      <th>4</th>\n",
       "      <td>220.57</td>\n",
       "    </tr>\n",
       "    <tr>\n",
       "      <th>5</th>\n",
       "      <td>2394.94</td>\n",
       "    </tr>\n",
       "    <tr>\n",
       "      <th>6</th>\n",
       "      <td>3946.55</td>\n",
       "    </tr>\n",
       "    <tr>\n",
       "      <th>...</th>\n",
       "      <td>...</td>\n",
       "    </tr>\n",
       "    <tr>\n",
       "      <th>3496</th>\n",
       "      <td>2045.84</td>\n",
       "    </tr>\n",
       "    <tr>\n",
       "      <th>3497</th>\n",
       "      <td>1648.32</td>\n",
       "    </tr>\n",
       "    <tr>\n",
       "      <th>3498</th>\n",
       "      <td>3147.33</td>\n",
       "    </tr>\n",
       "    <tr>\n",
       "      <th>3499</th>\n",
       "      <td>4955.25</td>\n",
       "    </tr>\n",
       "    <tr>\n",
       "      <th>3500</th>\n",
       "      <td>1785.86</td>\n",
       "    </tr>\n",
       "  </tbody>\n",
       "</table>\n",
       "<p>3456 rows × 1 columns</p>\n",
       "</div>"
      ],
      "text/plain": [
       "             cust_profit\n",
       "customer_id             \n",
       "1                3018.09\n",
       "2                2226.26\n",
       "4                 220.57\n",
       "5                2394.94\n",
       "6                3946.55\n",
       "...                  ...\n",
       "3496             2045.84\n",
       "3497             1648.32\n",
       "3498             3147.33\n",
       "3499             4955.25\n",
       "3500             1785.86\n",
       "\n",
       "[3456 rows x 1 columns]"
      ]
     },
     "execution_count": 77,
     "metadata": {},
     "output_type": "execute_result"
    }
   ],
   "source": [
    "cust_profit.sort_index()"
   ]
  },
  {
   "cell_type": "markdown",
   "metadata": {},
   "source": [
    "#### Sales volume per customer"
   ]
  },
  {
   "cell_type": "code",
   "execution_count": 79,
   "metadata": {},
   "outputs": [],
   "source": [
    "cust_sales = analyze_df[['customer_id']].value_counts()\n",
    "cust_sales.name = 'units_sold'"
   ]
  },
  {
   "cell_type": "code",
   "execution_count": 82,
   "metadata": {},
   "outputs": [
    {
     "data": {
      "text/html": [
       "<div>\n",
       "<style scoped>\n",
       "    .dataframe tbody tr th:only-of-type {\n",
       "        vertical-align: middle;\n",
       "    }\n",
       "\n",
       "    .dataframe tbody tr th {\n",
       "        vertical-align: top;\n",
       "    }\n",
       "\n",
       "    .dataframe thead th {\n",
       "        text-align: right;\n",
       "    }\n",
       "</style>\n",
       "<table border=\"1\" class=\"dataframe\">\n",
       "  <thead>\n",
       "    <tr style=\"text-align: right;\">\n",
       "      <th></th>\n",
       "      <th>units_sold</th>\n",
       "    </tr>\n",
       "    <tr>\n",
       "      <th>customer_id</th>\n",
       "      <th></th>\n",
       "    </tr>\n",
       "  </thead>\n",
       "  <tbody>\n",
       "    <tr>\n",
       "      <th>1068</th>\n",
       "      <td>14</td>\n",
       "    </tr>\n",
       "    <tr>\n",
       "      <th>2183</th>\n",
       "      <td>14</td>\n",
       "    </tr>\n",
       "    <tr>\n",
       "      <th>2476</th>\n",
       "      <td>14</td>\n",
       "    </tr>\n",
       "    <tr>\n",
       "      <th>2464</th>\n",
       "      <td>13</td>\n",
       "    </tr>\n",
       "    <tr>\n",
       "      <th>1946</th>\n",
       "      <td>13</td>\n",
       "    </tr>\n",
       "    <tr>\n",
       "      <th>...</th>\n",
       "      <td>...</td>\n",
       "    </tr>\n",
       "    <tr>\n",
       "      <th>3179</th>\n",
       "      <td>1</td>\n",
       "    </tr>\n",
       "    <tr>\n",
       "      <th>2271</th>\n",
       "      <td>1</td>\n",
       "    </tr>\n",
       "    <tr>\n",
       "      <th>2291</th>\n",
       "      <td>1</td>\n",
       "    </tr>\n",
       "    <tr>\n",
       "      <th>1488</th>\n",
       "      <td>1</td>\n",
       "    </tr>\n",
       "    <tr>\n",
       "      <th>2525</th>\n",
       "      <td>1</td>\n",
       "    </tr>\n",
       "  </tbody>\n",
       "</table>\n",
       "<p>3456 rows × 1 columns</p>\n",
       "</div>"
      ],
      "text/plain": [
       "             units_sold\n",
       "customer_id            \n",
       "1068                 14\n",
       "2183                 14\n",
       "2476                 14\n",
       "2464                 13\n",
       "1946                 13\n",
       "...                 ...\n",
       "3179                  1\n",
       "2271                  1\n",
       "2291                  1\n",
       "1488                  1\n",
       "2525                  1\n",
       "\n",
       "[3456 rows x 1 columns]"
      ]
     },
     "execution_count": 82,
     "metadata": {},
     "output_type": "execute_result"
    }
   ],
   "source": [
    "cust_sales = pd.DataFrame(cust_sales)\n",
    "cust_sales"
   ]
  },
  {
   "cell_type": "code",
   "execution_count": 83,
   "metadata": {},
   "outputs": [],
   "source": [
    "# pd.merge(left=analyze_df.loc[analyze_df.index.isin(cond.index)], right=cond, \n",
    "#          how='inner', left_index=True, right_index=True).sort_values(by='total_profit', ascending=False)"
   ]
  },
  {
   "cell_type": "code",
   "execution_count": 93,
   "metadata": {},
   "outputs": [],
   "source": [
    "# <b> NOTE:<br>\n",
    "#     The top three buyers that generated the highest profits are:<br>\n",
    "#     1. Ally Bruhnke (169) - 11, 668.95\n",
    "#     2. Querida Danilchev (457) - 11,222.65\n",
    "#     3. Keeley Kruger (255) - 10787.60"
   ]
  },
  {
   "cell_type": "markdown",
   "metadata": {},
   "source": [
    "#### Number of times the top three most profitable buyers did business with us"
   ]
  },
  {
   "cell_type": "code",
   "execution_count": 86,
   "metadata": {},
   "outputs": [
    {
     "data": {
      "text/html": [
       "<div>\n",
       "<style scoped>\n",
       "    .dataframe tbody tr th:only-of-type {\n",
       "        vertical-align: middle;\n",
       "    }\n",
       "\n",
       "    .dataframe tbody tr th {\n",
       "        vertical-align: top;\n",
       "    }\n",
       "\n",
       "    .dataframe thead th {\n",
       "        text-align: right;\n",
       "    }\n",
       "</style>\n",
       "<table border=\"1\" class=\"dataframe\">\n",
       "  <thead>\n",
       "    <tr style=\"text-align: right;\">\n",
       "      <th></th>\n",
       "      <th>units_sold</th>\n",
       "    </tr>\n",
       "    <tr>\n",
       "      <th>customer_id</th>\n",
       "      <th></th>\n",
       "    </tr>\n",
       "  </thead>\n",
       "  <tbody>\n",
       "    <tr>\n",
       "      <th>1068</th>\n",
       "      <td>14</td>\n",
       "    </tr>\n",
       "    <tr>\n",
       "      <th>2183</th>\n",
       "      <td>14</td>\n",
       "    </tr>\n",
       "    <tr>\n",
       "      <th>2476</th>\n",
       "      <td>14</td>\n",
       "    </tr>\n",
       "  </tbody>\n",
       "</table>\n",
       "</div>"
      ],
      "text/plain": [
       "             units_sold\n",
       "customer_id            \n",
       "1068                 14\n",
       "2183                 14\n",
       "2476                 14"
      ]
     },
     "execution_count": 86,
     "metadata": {},
     "output_type": "execute_result"
    }
   ],
   "source": [
    "cust_sales.iloc[:3]"
   ]
  },
  {
   "cell_type": "code",
   "execution_count": 91,
   "metadata": {},
   "outputs": [
    {
     "data": {
      "text/html": [
       "<div>\n",
       "<style scoped>\n",
       "    .dataframe tbody tr th:only-of-type {\n",
       "        vertical-align: middle;\n",
       "    }\n",
       "\n",
       "    .dataframe tbody tr th {\n",
       "        vertical-align: top;\n",
       "    }\n",
       "\n",
       "    .dataframe thead th {\n",
       "        text-align: right;\n",
       "    }\n",
       "</style>\n",
       "<table border=\"1\" class=\"dataframe\">\n",
       "  <thead>\n",
       "    <tr style=\"text-align: right;\">\n",
       "      <th></th>\n",
       "      <th>customer_id</th>\n",
       "      <th>first_name</th>\n",
       "      <th>last_name</th>\n",
       "      <th>gender</th>\n",
       "      <th>units_sold</th>\n",
       "    </tr>\n",
       "  </thead>\n",
       "  <tbody>\n",
       "    <tr>\n",
       "      <th>0</th>\n",
       "      <td>1</td>\n",
       "      <td>Laraine</td>\n",
       "      <td>Medendorp</td>\n",
       "      <td>Female</td>\n",
       "      <td>11</td>\n",
       "    </tr>\n",
       "    <tr>\n",
       "      <th>1</th>\n",
       "      <td>2</td>\n",
       "      <td>Eli</td>\n",
       "      <td>Bockman</td>\n",
       "      <td>Male</td>\n",
       "      <td>3</td>\n",
       "    </tr>\n",
       "    <tr>\n",
       "      <th>2</th>\n",
       "      <td>4</td>\n",
       "      <td>Talbot</td>\n",
       "      <td>Unknown</td>\n",
       "      <td>Male</td>\n",
       "      <td>2</td>\n",
       "    </tr>\n",
       "    <tr>\n",
       "      <th>3</th>\n",
       "      <td>5</td>\n",
       "      <td>Sheila-kathryn</td>\n",
       "      <td>Calton</td>\n",
       "      <td>Female</td>\n",
       "      <td>6</td>\n",
       "    </tr>\n",
       "    <tr>\n",
       "      <th>4</th>\n",
       "      <td>6</td>\n",
       "      <td>Curr</td>\n",
       "      <td>Duckhouse</td>\n",
       "      <td>Male</td>\n",
       "      <td>5</td>\n",
       "    </tr>\n",
       "    <tr>\n",
       "      <th>...</th>\n",
       "      <td>...</td>\n",
       "      <td>...</td>\n",
       "      <td>...</td>\n",
       "      <td>...</td>\n",
       "      <td>...</td>\n",
       "    </tr>\n",
       "    <tr>\n",
       "      <th>3451</th>\n",
       "      <td>3496</td>\n",
       "      <td>Danya</td>\n",
       "      <td>Burnyeat</td>\n",
       "      <td>Male</td>\n",
       "      <td>4</td>\n",
       "    </tr>\n",
       "    <tr>\n",
       "      <th>3452</th>\n",
       "      <td>3497</td>\n",
       "      <td>Thia</td>\n",
       "      <td>O'Day</td>\n",
       "      <td>Female</td>\n",
       "      <td>3</td>\n",
       "    </tr>\n",
       "    <tr>\n",
       "      <th>3453</th>\n",
       "      <td>3498</td>\n",
       "      <td>Lois</td>\n",
       "      <td>Abrahim</td>\n",
       "      <td>Female</td>\n",
       "      <td>6</td>\n",
       "    </tr>\n",
       "    <tr>\n",
       "      <th>3454</th>\n",
       "      <td>3499</td>\n",
       "      <td>Shelton</td>\n",
       "      <td>Tewkesberrie</td>\n",
       "      <td>Male</td>\n",
       "      <td>7</td>\n",
       "    </tr>\n",
       "    <tr>\n",
       "      <th>3455</th>\n",
       "      <td>3500</td>\n",
       "      <td>Josy</td>\n",
       "      <td>Fleeman</td>\n",
       "      <td>Female</td>\n",
       "      <td>6</td>\n",
       "    </tr>\n",
       "  </tbody>\n",
       "</table>\n",
       "<p>3456 rows × 5 columns</p>\n",
       "</div>"
      ],
      "text/plain": [
       "      customer_id      first_name     last_name  gender  units_sold\n",
       "0               1         Laraine     Medendorp  Female          11\n",
       "1               2             Eli       Bockman    Male           3\n",
       "2               4          Talbot       Unknown    Male           2\n",
       "3               5  Sheila-kathryn        Calton  Female           6\n",
       "4               6            Curr     Duckhouse    Male           5\n",
       "...           ...             ...           ...     ...         ...\n",
       "3451         3496           Danya      Burnyeat    Male           4\n",
       "3452         3497            Thia         O'Day  Female           3\n",
       "3453         3498            Lois       Abrahim  Female           6\n",
       "3454         3499         Shelton  Tewkesberrie    Male           7\n",
       "3455         3500            Josy       Fleeman  Female           6\n",
       "\n",
       "[3456 rows x 5 columns]"
      ]
     },
     "execution_count": 91,
     "metadata": {},
     "output_type": "execute_result"
    }
   ],
   "source": [
    "result = pd.merge(left=analyze_df[['customer_id', 'first_name', 'last_name', 'gender']].drop_duplicates(subset='customer_id'), \n",
    "         right=cust_sales, how='inner', left_on='customer_id', right_index=True).sort_values('customer_id').reset_index(drop=True)\n",
    "result"
   ]
  },
  {
   "cell_type": "code",
   "execution_count": 92,
   "metadata": {},
   "outputs": [],
   "source": [
    "# pd.merge(left=result, right=cond, how='inner', left_index=True, right_index=True).sort_values('total_profit', ascending=False)"
   ]
  },
  {
   "cell_type": "code",
   "execution_count": 95,
   "metadata": {},
   "outputs": [],
   "source": [
    "# <b>NOTE:<br></b>\n",
    "#     <b>Ally Bruhnke</b> bought (169) <b>10 times</b> and we made a profit of 11, 668.95,<br>\n",
    "#     <b>Querida Danilchev</b> (457) bought <b>11 times</b> and we made a profit of 11,222.65.<br>\n",
    "#     And we made a profit of  10787.60 from <b>Keeley Kruger's</b> (255) <b>8 times</b> purchases"
   ]
  },
  {
   "cell_type": "code",
   "execution_count": 96,
   "metadata": {},
   "outputs": [
    {
     "data": {
      "text/plain": [
       "Index(['customer_id', 'first_name', 'last_name', 'gender', 'address',\n",
       "       'postcode', 'state', 'DOB', 'job_title', 'job_industry_category',\n",
       "       'wealth_segment', 'owns_car', 'tenure', 'age', 'property_valuation',\n",
       "       'past_3_years_bike_related_purchases', 'product_id', 'transaction_date',\n",
       "       'online_order', 'brand', 'product_line', 'product_class',\n",
       "       'product_size', 'list_price', 'standard_cost',\n",
       "       'product_first_sold_date', 'trans_week_day', 'trans_day_num',\n",
       "       'trans_month_num', 'trans_month', 'trans_year'],\n",
       "      dtype='object')"
      ]
     },
     "execution_count": 96,
     "metadata": {},
     "output_type": "execute_result"
    }
   ],
   "source": [
    "kpmg_df.columns"
   ]
  },
  {
   "cell_type": "markdown",
   "metadata": {},
   "source": [
    "#### GENERAL PRODUCT FEATURES ANALYSIS"
   ]
  },
  {
   "cell_type": "code",
   "execution_count": 98,
   "metadata": {},
   "outputs": [
    {
     "data": {
      "text/plain": [
       "Standard    13903\n",
       "Road         3887\n",
       "Touring      1206\n",
       "Mountain      413\n",
       "Name: product_line, dtype: int64"
      ]
     },
     "execution_count": 98,
     "metadata": {},
     "output_type": "execute_result"
    }
   ],
   "source": [
    "analyze_df['product_line'].value_counts().sort_values(ascending=False)"
   ]
  },
  {
   "cell_type": "code",
   "execution_count": 99,
   "metadata": {
    "scrolled": true
   },
   "outputs": [
    {
     "data": {
      "image/png": "[encoded data removed]",
      "text/plain": [
       "<Figure size 1500x750 with 4 Axes>"
      ]
     },
     "metadata": {
      "needs_background": "light"
     },
     "output_type": "display_data"
    }
   ],
   "source": [
    "fig, ax = plt.subplots(figsize=(10, 5), dpi=150, nrows=2, ncols=2)\n",
    "tl, tr, dl, dr = ax[0, 0], ax[0, 1], ax[1, 0], ax[1, 1]\n",
    "\n",
    "cp = sns.countplot(data=analyze_df, x='product_line', ax=tl)#, order=analyze_df['product_line'].unique())\n",
    "cp = sns.countplot(data=analyze_df, x='product_class', ax=tr)#, order=analyze_df['product_class'].unique())\n",
    "cp = sns.countplot(data=analyze_df, x='product_size', ax=dl)#, order=analyze_df['product_size'].unique())\n",
    "cp = sns.countplot(data=analyze_df, x='brand', ax=dr)#, order=analyze_df['brand'].unique())\n",
    "\n",
    "\n",
    "\n",
    "tl.set_xticklabels(labels=analyze_df['product_line'].unique(), rotation=90)\n",
    "dr.set_xticklabels(labels=analyze_df['brand'].unique(), rotation=90)\n",
    "fig.tight_layout()"
   ]
  },
  {
   "cell_type": "markdown",
   "metadata": {},
   "source": [
    "#### PRICE TREND ALONG TIMELINE"
   ]
  },
  {
   "cell_type": "code",
   "execution_count": 105,
   "metadata": {},
   "outputs": [
    {
     "data": {
      "text/html": [
       "<div>\n",
       "<style scoped>\n",
       "    .dataframe tbody tr th:only-of-type {\n",
       "        vertical-align: middle;\n",
       "    }\n",
       "\n",
       "    .dataframe tbody tr th {\n",
       "        vertical-align: top;\n",
       "    }\n",
       "\n",
       "    .dataframe thead th {\n",
       "        text-align: right;\n",
       "    }\n",
       "</style>\n",
       "<table border=\"1\" class=\"dataframe\">\n",
       "  <thead>\n",
       "    <tr style=\"text-align: right;\">\n",
       "      <th></th>\n",
       "      <th>trans_month_num</th>\n",
       "      <th>average_price</th>\n",
       "    </tr>\n",
       "  </thead>\n",
       "  <tbody>\n",
       "    <tr>\n",
       "      <th>0</th>\n",
       "      <td>1</td>\n",
       "      <td>1110.827010</td>\n",
       "    </tr>\n",
       "    <tr>\n",
       "      <th>1</th>\n",
       "      <td>2</td>\n",
       "      <td>1108.127308</td>\n",
       "    </tr>\n",
       "    <tr>\n",
       "      <th>2</th>\n",
       "      <td>3</td>\n",
       "      <td>1095.152876</td>\n",
       "    </tr>\n",
       "    <tr>\n",
       "      <th>3</th>\n",
       "      <td>4</td>\n",
       "      <td>1113.354063</td>\n",
       "    </tr>\n",
       "    <tr>\n",
       "      <th>4</th>\n",
       "      <td>5</td>\n",
       "      <td>1137.657246</td>\n",
       "    </tr>\n",
       "    <tr>\n",
       "      <th>5</th>\n",
       "      <td>6</td>\n",
       "      <td>1114.585638</td>\n",
       "    </tr>\n",
       "    <tr>\n",
       "      <th>6</th>\n",
       "      <td>7</td>\n",
       "      <td>1100.880462</td>\n",
       "    </tr>\n",
       "    <tr>\n",
       "      <th>7</th>\n",
       "      <td>8</td>\n",
       "      <td>1105.057269</td>\n",
       "    </tr>\n",
       "    <tr>\n",
       "      <th>8</th>\n",
       "      <td>9</td>\n",
       "      <td>1111.437726</td>\n",
       "    </tr>\n",
       "    <tr>\n",
       "      <th>9</th>\n",
       "      <td>10</td>\n",
       "      <td>1107.804442</td>\n",
       "    </tr>\n",
       "    <tr>\n",
       "      <th>10</th>\n",
       "      <td>11</td>\n",
       "      <td>1090.555467</td>\n",
       "    </tr>\n",
       "    <tr>\n",
       "      <th>11</th>\n",
       "      <td>12</td>\n",
       "      <td>1096.155646</td>\n",
       "    </tr>\n",
       "  </tbody>\n",
       "</table>\n",
       "</div>"
      ],
      "text/plain": [
       "    trans_month_num  average_price\n",
       "0                 1    1110.827010\n",
       "1                 2    1108.127308\n",
       "2                 3    1095.152876\n",
       "3                 4    1113.354063\n",
       "4                 5    1137.657246\n",
       "5                 6    1114.585638\n",
       "6                 7    1100.880462\n",
       "7                 8    1105.057269\n",
       "8                 9    1111.437726\n",
       "9                10    1107.804442\n",
       "10               11    1090.555467\n",
       "11               12    1096.155646"
      ]
     },
     "execution_count": 105,
     "metadata": {},
     "output_type": "execute_result"
    }
   ],
   "source": [
    "monthly_price = analyze_df[['trans_month_num', 'list_price']].groupby(['trans_month_num']).mean().reset_index().rename(mapper={'list_price': 'average_price'}, axis=1)\n",
    "monthly_price"
   ]
  },
  {
   "cell_type": "code",
   "execution_count": 106,
   "metadata": {
    "scrolled": false
   },
   "outputs": [
    {
     "data": {
      "image/png": "[encoded data removed]",
      "text/plain": [
       "<Figure size 900x450 with 1 Axes>"
      ]
     },
     "metadata": {
      "needs_background": "light"
     },
     "output_type": "display_data"
    }
   ],
   "source": [
    "plt.figure(figsize=(6, 3), dpi=150)\n",
    "sns.lineplot(data=monthly_price, x='trans_month_num', y='average_price')\n",
    "plt.xticks(size=8, rotation=90)\n",
    "plt.title('Monthly Price Trend in 2017');"
   ]
  },
  {
   "cell_type": "markdown",
   "metadata": {},
   "source": [
    "#### Monthly sales volume"
   ]
  },
  {
   "cell_type": "code",
   "execution_count": 239,
   "metadata": {},
   "outputs": [
    {
     "data": {
      "text/html": [
       "<div>\n",
       "<style scoped>\n",
       "    .dataframe tbody tr th:only-of-type {\n",
       "        vertical-align: middle;\n",
       "    }\n",
       "\n",
       "    .dataframe tbody tr th {\n",
       "        vertical-align: top;\n",
       "    }\n",
       "\n",
       "    .dataframe thead th {\n",
       "        text-align: right;\n",
       "    }\n",
       "</style>\n",
       "<table border=\"1\" class=\"dataframe\">\n",
       "  <thead>\n",
       "    <tr style=\"text-align: right;\">\n",
       "      <th></th>\n",
       "      <th>sold_units</th>\n",
       "    </tr>\n",
       "    <tr>\n",
       "      <th>trans_month_num</th>\n",
       "      <th></th>\n",
       "    </tr>\n",
       "  </thead>\n",
       "  <tbody>\n",
       "    <tr>\n",
       "      <th>10</th>\n",
       "      <td>1720</td>\n",
       "    </tr>\n",
       "    <tr>\n",
       "      <th>8</th>\n",
       "      <td>1699</td>\n",
       "    </tr>\n",
       "    <tr>\n",
       "      <th>7</th>\n",
       "      <td>1665</td>\n",
       "    </tr>\n",
       "    <tr>\n",
       "      <th>5</th>\n",
       "      <td>1634</td>\n",
       "    </tr>\n",
       "    <tr>\n",
       "      <th>1</th>\n",
       "      <td>1632</td>\n",
       "    </tr>\n",
       "    <tr>\n",
       "      <th>11</th>\n",
       "      <td>1617</td>\n",
       "    </tr>\n",
       "    <tr>\n",
       "      <th>4</th>\n",
       "      <td>1607</td>\n",
       "    </tr>\n",
       "    <tr>\n",
       "      <th>3</th>\n",
       "      <td>1596</td>\n",
       "    </tr>\n",
       "    <tr>\n",
       "      <th>12</th>\n",
       "      <td>1594</td>\n",
       "    </tr>\n",
       "    <tr>\n",
       "      <th>2</th>\n",
       "      <td>1590</td>\n",
       "    </tr>\n",
       "    <tr>\n",
       "      <th>6</th>\n",
       "      <td>1529</td>\n",
       "    </tr>\n",
       "    <tr>\n",
       "      <th>9</th>\n",
       "      <td>1526</td>\n",
       "    </tr>\n",
       "  </tbody>\n",
       "</table>\n",
       "</div>"
      ],
      "text/plain": [
       "                 sold_units\n",
       "trans_month_num            \n",
       "10                     1720\n",
       "8                      1699\n",
       "7                      1665\n",
       "5                      1634\n",
       "1                      1632\n",
       "11                     1617\n",
       "4                      1607\n",
       "3                      1596\n",
       "12                     1594\n",
       "2                      1590\n",
       "6                      1529\n",
       "9                      1526"
      ]
     },
     "execution_count": 239,
     "metadata": {},
     "output_type": "execute_result"
    }
   ],
   "source": [
    "monthly_sales = pd.DataFrame(analyze_df[['trans_month_num']].value_counts(), index=analyze_df[['trans_month_num']].value_counts().index)\n",
    "monthly_sales.columns = monthly_sales.columns.astype(np.str_).str.replace('0', 'sold_units')\n",
    "monthly_sales"
   ]
  },
  {
   "cell_type": "code",
   "execution_count": 255,
   "metadata": {},
   "outputs": [],
   "source": [
    "# print([n for a in monthly_sales.index for n in a])"
   ]
  },
  {
   "cell_type": "code",
   "execution_count": 258,
   "metadata": {
    "scrolled": false
   },
   "outputs": [
    {
     "data": {
      "image/png": "[encoded data removed]",
      "text/plain": [
       "<Figure size 900x450 with 1 Axes>"
      ]
     },
     "metadata": {
      "needs_background": "light"
     },
     "output_type": "display_data"
    }
   ],
   "source": [
    "plt.figure(figsize=(6, 3), dpi=150)\n",
    "sns.barplot(x=[n for a in monthly_sales.index for n in a], y=monthly_sales['sold_units'])\n",
    "plt.ylabel(\"Sold_units\"), plt.xlabel('Month')\n",
    "plt.ylim(bottom=1450, top=1750)\n",
    "plt.title('Monthly Sales Volume in 2017');"
   ]
  },
  {
   "cell_type": "code",
   "execution_count": 269,
   "metadata": {
    "scrolled": false
   },
   "outputs": [
    {
     "name": "stdout",
     "output_type": "stream",
     "text": [
      "10    1720\n",
      "8     1699\n",
      "7     1665\n",
      "5     1634\n",
      "1     1632\n",
      "11    1617\n",
      "4     1607\n",
      "3     1596\n",
      "12    1594\n",
      "2     1590\n",
      "6     1529\n",
      "9     1526\n",
      "Name: trans_month_num, dtype: int64\n"
     ]
    },
    {
     "data": {
      "image/png": "[encoded data removed]",
      "text/plain": [
       "<Figure size 900x450 with 2 Axes>"
      ]
     },
     "metadata": {
      "needs_background": "light"
     },
     "output_type": "display_data"
    }
   ],
   "source": [
    "result = analyze_df['trans_month_num'].value_counts()\n",
    "print(result)\n",
    "\n",
    "fig = plt.figure(figsize=(6, 3), dpi=150)\n",
    "l, r = fig.add_axes([0, 0, .5, 1]), fig.add_axes([.7, 0, .5, 1])\n",
    "\n",
    "sns.barplot(x=result.index, y=result, order=result.index, ax=l)\n",
    "sns.lineplot(x=result.index, y=result, ax=r)\n",
    "\n",
    "l.set_xticklabels(labels=result.index, size=8, rotation=90)\n",
    "l.set_title('Monthly Sales Volume'), r.set_title('Monthly Sales Volume');"
   ]
  },
  {
   "cell_type": "markdown",
   "metadata": {},
   "source": [
    "#### Monthly cost, revenue and profit"
   ]
  },
  {
   "cell_type": "code",
   "execution_count": 123,
   "metadata": {
    "scrolled": false
   },
   "outputs": [
    {
     "data": {
      "text/html": [
       "<div>\n",
       "<style scoped>\n",
       "    .dataframe tbody tr th:only-of-type {\n",
       "        vertical-align: middle;\n",
       "    }\n",
       "\n",
       "    .dataframe tbody tr th {\n",
       "        vertical-align: top;\n",
       "    }\n",
       "\n",
       "    .dataframe thead th {\n",
       "        text-align: right;\n",
       "    }\n",
       "</style>\n",
       "<table border=\"1\" class=\"dataframe\">\n",
       "  <thead>\n",
       "    <tr style=\"text-align: right;\">\n",
       "      <th></th>\n",
       "      <th>standard_cost</th>\n",
       "    </tr>\n",
       "    <tr>\n",
       "      <th>trans_month_num</th>\n",
       "      <th></th>\n",
       "    </tr>\n",
       "  </thead>\n",
       "  <tbody>\n",
       "    <tr>\n",
       "      <th>1</th>\n",
       "      <td>903173.67</td>\n",
       "    </tr>\n",
       "    <tr>\n",
       "      <th>2</th>\n",
       "      <td>900901.82</td>\n",
       "    </tr>\n",
       "    <tr>\n",
       "      <th>3</th>\n",
       "      <td>889324.88</td>\n",
       "    </tr>\n",
       "    <tr>\n",
       "      <th>4</th>\n",
       "      <td>902539.56</td>\n",
       "    </tr>\n",
       "    <tr>\n",
       "      <th>5</th>\n",
       "      <td>960490.64</td>\n",
       "    </tr>\n",
       "    <tr>\n",
       "      <th>6</th>\n",
       "      <td>861024.55</td>\n",
       "    </tr>\n",
       "    <tr>\n",
       "      <th>7</th>\n",
       "      <td>914666.76</td>\n",
       "    </tr>\n",
       "    <tr>\n",
       "      <th>8</th>\n",
       "      <td>929194.49</td>\n",
       "    </tr>\n",
       "    <tr>\n",
       "      <th>9</th>\n",
       "      <td>851023.09</td>\n",
       "    </tr>\n",
       "    <tr>\n",
       "      <th>10</th>\n",
       "      <td>940735.07</td>\n",
       "    </tr>\n",
       "    <tr>\n",
       "      <th>11</th>\n",
       "      <td>857801.99</td>\n",
       "    </tr>\n",
       "    <tr>\n",
       "      <th>12</th>\n",
       "      <td>883305.44</td>\n",
       "    </tr>\n",
       "  </tbody>\n",
       "</table>\n",
       "</div>"
      ],
      "text/plain": [
       "                 standard_cost\n",
       "trans_month_num               \n",
       "1                    903173.67\n",
       "2                    900901.82\n",
       "3                    889324.88\n",
       "4                    902539.56\n",
       "5                    960490.64\n",
       "6                    861024.55\n",
       "7                    914666.76\n",
       "8                    929194.49\n",
       "9                    851023.09\n",
       "10                   940735.07\n",
       "11                   857801.99\n",
       "12                   883305.44"
      ]
     },
     "execution_count": 123,
     "metadata": {},
     "output_type": "execute_result"
    }
   ],
   "source": [
    "monthly_cost = analyze_df[['trans_month_num', 'standard_cost']].groupby(by=['trans_month_num']).sum()\n",
    "monthly_cost"
   ]
  },
  {
   "cell_type": "code",
   "execution_count": 144,
   "metadata": {
    "scrolled": false
   },
   "outputs": [
    {
     "data": {
      "image/png": "[encoded data removed]",
      "text/plain": [
       "<Figure size 900x450 with 1 Axes>"
      ]
     },
     "metadata": {
      "needs_background": "light"
     },
     "output_type": "display_data"
    }
   ],
   "source": [
    "plt.figure(figsize=(6, 3), dpi=150)\n",
    "sns.lineplot(x=monthly_cost.index, y=monthly_cost['standard_cost'])\n",
    "plt.ylabel(\"Cost/Spend\"), plt.xlabel('Month')\n",
    "plt.ylim(bottom=8.2e5, top=10e5)  # ie, 820,000 to 1,000,000\n",
    "plt.title('Monthly Cost/Spend in 2017');"
   ]
  },
  {
   "cell_type": "code",
   "execution_count": 181,
   "metadata": {},
   "outputs": [
    {
     "data": {
      "text/html": [
       "<div>\n",
       "<style scoped>\n",
       "    .dataframe tbody tr th:only-of-type {\n",
       "        vertical-align: middle;\n",
       "    }\n",
       "\n",
       "    .dataframe tbody tr th {\n",
       "        vertical-align: top;\n",
       "    }\n",
       "\n",
       "    .dataframe thead th {\n",
       "        text-align: right;\n",
       "    }\n",
       "</style>\n",
       "<table border=\"1\" class=\"dataframe\">\n",
       "  <thead>\n",
       "    <tr style=\"text-align: right;\">\n",
       "      <th></th>\n",
       "      <th>list_price</th>\n",
       "    </tr>\n",
       "    <tr>\n",
       "      <th>trans_month_num</th>\n",
       "      <th></th>\n",
       "    </tr>\n",
       "  </thead>\n",
       "  <tbody>\n",
       "    <tr>\n",
       "      <th>10</th>\n",
       "      <td>1905423.64</td>\n",
       "    </tr>\n",
       "    <tr>\n",
       "      <th>8</th>\n",
       "      <td>1877492.30</td>\n",
       "    </tr>\n",
       "    <tr>\n",
       "      <th>5</th>\n",
       "      <td>1858931.94</td>\n",
       "    </tr>\n",
       "    <tr>\n",
       "      <th>7</th>\n",
       "      <td>1832965.97</td>\n",
       "    </tr>\n",
       "    <tr>\n",
       "      <th>1</th>\n",
       "      <td>1812869.68</td>\n",
       "    </tr>\n",
       "  </tbody>\n",
       "</table>\n",
       "</div>"
      ],
      "text/plain": [
       "                 list_price\n",
       "trans_month_num            \n",
       "10               1905423.64\n",
       "8                1877492.30\n",
       "5                1858931.94\n",
       "7                1832965.97\n",
       "1                1812869.68"
      ]
     },
     "execution_count": 181,
     "metadata": {},
     "output_type": "execute_result"
    }
   ],
   "source": [
    "monthly_revenue = analyze_df[['trans_month_num', 'list_price']].groupby(by=['trans_month_num']).sum()\n",
    "monthly_revenue.sort_values(by='list_price', ascending=False).head()"
   ]
  },
  {
   "cell_type": "code",
   "execution_count": 160,
   "metadata": {
    "scrolled": false
   },
   "outputs": [
    {
     "data": {
      "image/png": "[encoded data removed]",
      "text/plain": [
       "<Figure size 900x450 with 2 Axes>"
      ]
     },
     "metadata": {
      "needs_background": "light"
     },
     "output_type": "display_data"
    }
   ],
   "source": [
    "fig = plt.figure(figsize=(6, 3), dpi=150)\n",
    "l, r  = fig.add_axes([0, 0, .5, 1]), fig.add_axes([.7, 0, .5, 1])\n",
    "sns.lineplot(x=monthly_cost.index, y=monthly_cost['standard_cost'], ax=l)\n",
    "sns.lineplot(x=monthly_revenue.index, y=monthly_revenue['list_price'], ax=r)\n",
    "plt.ylabel(\"Sold_units\"), plt.xlabel('Months')\n",
    "# plt.ylim(bottom=1450, top=1750)\n",
    "l.set_title('Monthly Cost/Spend in 2017'), r.set_title('Monthly Revenue in 2017');"
   ]
  },
  {
   "cell_type": "markdown",
   "metadata": {},
   "source": [
    "#### Monthly sales profit"
   ]
  },
  {
   "cell_type": "code",
   "execution_count": 179,
   "metadata": {},
   "outputs": [
    {
     "data": {
      "text/html": [
       "<div>\n",
       "<style scoped>\n",
       "    .dataframe tbody tr th:only-of-type {\n",
       "        vertical-align: middle;\n",
       "    }\n",
       "\n",
       "    .dataframe tbody tr th {\n",
       "        vertical-align: top;\n",
       "    }\n",
       "\n",
       "    .dataframe thead th {\n",
       "        text-align: right;\n",
       "    }\n",
       "</style>\n",
       "<table border=\"1\" class=\"dataframe\">\n",
       "  <thead>\n",
       "    <tr style=\"text-align: right;\">\n",
       "      <th></th>\n",
       "      <th>trans_profit</th>\n",
       "    </tr>\n",
       "    <tr>\n",
       "      <th>trans_month_num</th>\n",
       "      <th></th>\n",
       "    </tr>\n",
       "  </thead>\n",
       "  <tbody>\n",
       "    <tr>\n",
       "      <th>10</th>\n",
       "      <td>964688.57</td>\n",
       "    </tr>\n",
       "    <tr>\n",
       "      <th>8</th>\n",
       "      <td>948297.81</td>\n",
       "    </tr>\n",
       "    <tr>\n",
       "      <th>7</th>\n",
       "      <td>918299.21</td>\n",
       "    </tr>\n",
       "    <tr>\n",
       "      <th>1</th>\n",
       "      <td>909696.01</td>\n",
       "    </tr>\n",
       "    <tr>\n",
       "      <th>11</th>\n",
       "      <td>905626.20</td>\n",
       "    </tr>\n",
       "  </tbody>\n",
       "</table>\n",
       "</div>"
      ],
      "text/plain": [
       "                 trans_profit\n",
       "trans_month_num              \n",
       "10                  964688.57\n",
       "8                   948297.81\n",
       "7                   918299.21\n",
       "1                   909696.01\n",
       "11                  905626.20"
      ]
     },
     "execution_count": 179,
     "metadata": {},
     "output_type": "execute_result"
    }
   ],
   "source": [
    "monthly_profit = analyze_df[['trans_month_num', 'trans_profit']].groupby(by=['trans_month_num']).sum()\n",
    "monthly_profit.sort_values('trans_profit', ascending=False).head()"
   ]
  },
  {
   "cell_type": "code",
   "execution_count": 171,
   "metadata": {},
   "outputs": [],
   "source": [
    "#Alternativel:\n",
    "# monthly_revenue['list_price'] - monthly_cost['standard_cost']"
   ]
  },
  {
   "cell_type": "code",
   "execution_count": 201,
   "metadata": {
    "scrolled": false
   },
   "outputs": [
    {
     "data": {
      "image/png": "[encoded data removed]",
      "text/plain": [
       "<Figure size 900x450 with 2 Axes>"
      ]
     },
     "metadata": {
      "needs_background": "light"
     },
     "output_type": "display_data"
    }
   ],
   "source": [
    "fig = plt.figure(figsize=(6, 3), dpi=150)\n",
    "big, zoomed = fig.add_axes([0, 0, 1, 1]), fig.add_axes([.2, .7, .3, .2])\n",
    "\n",
    "sns.lineplot(x=monthly_profit.index, y=monthly_profit['trans_profit'], ax=big)\n",
    "sns.lineplot(x=monthly_profit.index, y=monthly_profit['trans_profit'], ax=zoomed)\n",
    "\n",
    "zoomed.set_xlim(left=3, right=6)\n",
    "big.set_ylabel(\"profit\"), big.set_xlabel('Month')\n",
    "big.set_title('Monthly profit in 2017');"
   ]
  },
  {
   "cell_type": "markdown",
   "metadata": {},
   "source": [
    "#### Daily Revenue"
   ]
  },
  {
   "cell_type": "code",
   "execution_count": 272,
   "metadata": {},
   "outputs": [
    {
     "data": {
      "text/html": [
       "<div>\n",
       "<style scoped>\n",
       "    .dataframe tbody tr th:only-of-type {\n",
       "        vertical-align: middle;\n",
       "    }\n",
       "\n",
       "    .dataframe tbody tr th {\n",
       "        vertical-align: top;\n",
       "    }\n",
       "\n",
       "    .dataframe thead th {\n",
       "        text-align: right;\n",
       "    }\n",
       "</style>\n",
       "<table border=\"1\" class=\"dataframe\">\n",
       "  <thead>\n",
       "    <tr style=\"text-align: right;\">\n",
       "      <th></th>\n",
       "      <th></th>\n",
       "      <th>revenue</th>\n",
       "    </tr>\n",
       "    <tr>\n",
       "      <th>trans_month_num</th>\n",
       "      <th>trans_day_num</th>\n",
       "      <th></th>\n",
       "    </tr>\n",
       "  </thead>\n",
       "  <tbody>\n",
       "    <tr>\n",
       "      <th rowspan=\"5\" valign=\"top\">1</th>\n",
       "      <th>1</th>\n",
       "      <td>57271.32</td>\n",
       "    </tr>\n",
       "    <tr>\n",
       "      <th>2</th>\n",
       "      <td>57765.79</td>\n",
       "    </tr>\n",
       "    <tr>\n",
       "      <th>3</th>\n",
       "      <td>59072.63</td>\n",
       "    </tr>\n",
       "    <tr>\n",
       "      <th>4</th>\n",
       "      <td>63257.18</td>\n",
       "    </tr>\n",
       "    <tr>\n",
       "      <th>5</th>\n",
       "      <td>72333.32</td>\n",
       "    </tr>\n",
       "    <tr>\n",
       "      <th>...</th>\n",
       "      <th>...</th>\n",
       "      <td>...</td>\n",
       "    </tr>\n",
       "    <tr>\n",
       "      <th rowspan=\"5\" valign=\"top\">12</th>\n",
       "      <th>26</th>\n",
       "      <td>56262.98</td>\n",
       "    </tr>\n",
       "    <tr>\n",
       "      <th>27</th>\n",
       "      <td>53454.09</td>\n",
       "    </tr>\n",
       "    <tr>\n",
       "      <th>28</th>\n",
       "      <td>66032.71</td>\n",
       "    </tr>\n",
       "    <tr>\n",
       "      <th>29</th>\n",
       "      <td>53931.25</td>\n",
       "    </tr>\n",
       "    <tr>\n",
       "      <th>30</th>\n",
       "      <td>50759.48</td>\n",
       "    </tr>\n",
       "  </tbody>\n",
       "</table>\n",
       "<p>364 rows × 1 columns</p>\n",
       "</div>"
      ],
      "text/plain": [
       "                                revenue\n",
       "trans_month_num trans_day_num          \n",
       "1               1              57271.32\n",
       "                2              57765.79\n",
       "                3              59072.63\n",
       "                4              63257.18\n",
       "                5              72333.32\n",
       "...                                 ...\n",
       "12              26             56262.98\n",
       "                27             53454.09\n",
       "                28             66032.71\n",
       "                29             53931.25\n",
       "                30             50759.48\n",
       "\n",
       "[364 rows x 1 columns]"
      ]
     },
     "execution_count": 272,
     "metadata": {},
     "output_type": "execute_result"
    }
   ],
   "source": [
    "result = kpmg_df[['trans_month_num', 'trans_day_num', 'list_price']].groupby(['trans_month_num', 'trans_day_num']).sum().rename(mapper={'list_price': 'revenue'}, axis=1)#.reset_index()\n",
    "# result.xs([\"May\", 1])\n",
    "result"
   ]
  },
  {
   "cell_type": "markdown",
   "metadata": {},
   "source": [
    "#### Monthly revenue calculated from daily revenue\n",
    "Using a multi-level indexer with the groupby parameter <b>'level'</b>"
   ]
  },
  {
   "cell_type": "code",
   "execution_count": 273,
   "metadata": {},
   "outputs": [
    {
     "data": {
      "text/html": [
       "<div>\n",
       "<style scoped>\n",
       "    .dataframe tbody tr th:only-of-type {\n",
       "        vertical-align: middle;\n",
       "    }\n",
       "\n",
       "    .dataframe tbody tr th {\n",
       "        vertical-align: top;\n",
       "    }\n",
       "\n",
       "    .dataframe thead th {\n",
       "        text-align: right;\n",
       "    }\n",
       "</style>\n",
       "<table border=\"1\" class=\"dataframe\">\n",
       "  <thead>\n",
       "    <tr style=\"text-align: right;\">\n",
       "      <th></th>\n",
       "      <th>revenue</th>\n",
       "    </tr>\n",
       "    <tr>\n",
       "      <th>trans_month_num</th>\n",
       "      <th></th>\n",
       "    </tr>\n",
       "  </thead>\n",
       "  <tbody>\n",
       "    <tr>\n",
       "      <th>10</th>\n",
       "      <td>1905423.64</td>\n",
       "    </tr>\n",
       "    <tr>\n",
       "      <th>8</th>\n",
       "      <td>1877492.30</td>\n",
       "    </tr>\n",
       "    <tr>\n",
       "      <th>5</th>\n",
       "      <td>1858931.94</td>\n",
       "    </tr>\n",
       "    <tr>\n",
       "      <th>7</th>\n",
       "      <td>1832965.97</td>\n",
       "    </tr>\n",
       "    <tr>\n",
       "      <th>1</th>\n",
       "      <td>1812869.68</td>\n",
       "    </tr>\n",
       "  </tbody>\n",
       "</table>\n",
       "</div>"
      ],
      "text/plain": [
       "                    revenue\n",
       "trans_month_num            \n",
       "10               1905423.64\n",
       "8                1877492.30\n",
       "5                1858931.94\n",
       "7                1832965.97\n",
       "1                1812869.68"
      ]
     },
     "execution_count": 273,
     "metadata": {},
     "output_type": "execute_result"
    }
   ],
   "source": [
    "result.groupby(level='trans_month_num').sum().sort_values('revenue', ascending=False).head()"
   ]
  },
  {
   "cell_type": "code",
   "execution_count": 275,
   "metadata": {},
   "outputs": [
    {
     "data": {
      "text/plain": [
       "Index(['customer_id', 'first_name', 'last_name', 'gender', 'address',\n",
       "       'postcode', 'state', 'DOB', 'job_title', 'job_industry_category',\n",
       "       'wealth_segment', 'owns_car', 'tenure', 'age', 'property_valuation',\n",
       "       'past_3_years_bike_related_purchases', 'product_id', 'transaction_date',\n",
       "       'online_order', 'brand', 'product_line', 'product_class',\n",
       "       'product_size', 'product_first_sold_date', 'trans_week_day',\n",
       "       'trans_day_num', 'trans_month_num', 'trans_month', 'trans_year',\n",
       "       'standard_cost', 'list_price', 'trans_profit'],\n",
       "      dtype='object')"
      ]
     },
     "execution_count": 275,
     "metadata": {},
     "output_type": "execute_result"
    }
   ],
   "source": [
    "analyze_df.columns"
   ]
  },
  {
   "cell_type": "markdown",
   "metadata": {},
   "source": [
    "#### Sales volume per week day"
   ]
  },
  {
   "cell_type": "code",
   "execution_count": 276,
   "metadata": {},
   "outputs": [
    {
     "data": {
      "text/plain": [
       "Thursday     2717\n",
       "Friday       2720\n",
       "Tuesday      2764\n",
       "Saturday     2775\n",
       "Monday       2788\n",
       "Sunday       2812\n",
       "Wednesday    2833\n",
       "Name: sales_vol_per_weekday, dtype: int64"
      ]
     },
     "execution_count": 276,
     "metadata": {},
     "output_type": "execute_result"
    }
   ],
   "source": [
    "result = analyze_df['trans_week_day'].value_counts().sort_values()\n",
    "result.name = 'sales_vol_per_weekday'\n",
    "result"
   ]
  },
  {
   "cell_type": "code",
   "execution_count": 278,
   "metadata": {},
   "outputs": [
    {
     "data": {
      "image/png": "[encoded data removed]",
      "text/plain": [
       "<Figure size 432x288 with 1 Axes>"
      ]
     },
     "metadata": {
      "needs_background": "light"
     },
     "output_type": "display_data"
    }
   ],
   "source": [
    "sns.lineplot(x=result.index, y=result)\n",
    "\n",
    "plt.xticks(rotation=90), plt.ylim(bottom=2700, top=2840)\n",
    "\n",
    "plt.title('Sales Volume per Weekday')\n",
    "plt.show()"
   ]
  },
  {
   "cell_type": "markdown",
   "metadata": {},
   "source": [
    "#### Profit per week day"
   ]
  },
  {
   "cell_type": "code",
   "execution_count": 280,
   "metadata": {},
   "outputs": [
    {
     "data": {
      "text/html": [
       "<div>\n",
       "<style scoped>\n",
       "    .dataframe tbody tr th:only-of-type {\n",
       "        vertical-align: middle;\n",
       "    }\n",
       "\n",
       "    .dataframe tbody tr th {\n",
       "        vertical-align: top;\n",
       "    }\n",
       "\n",
       "    .dataframe thead th {\n",
       "        text-align: right;\n",
       "    }\n",
       "</style>\n",
       "<table border=\"1\" class=\"dataframe\">\n",
       "  <thead>\n",
       "    <tr style=\"text-align: right;\">\n",
       "      <th></th>\n",
       "      <th>profit_per_weekday</th>\n",
       "    </tr>\n",
       "    <tr>\n",
       "      <th>trans_week_day</th>\n",
       "      <th></th>\n",
       "    </tr>\n",
       "  </thead>\n",
       "  <tbody>\n",
       "    <tr>\n",
       "      <th>Monday</th>\n",
       "      <td>1499106.68</td>\n",
       "    </tr>\n",
       "    <tr>\n",
       "      <th>Friday</th>\n",
       "      <td>1504791.79</td>\n",
       "    </tr>\n",
       "    <tr>\n",
       "      <th>Tuesday</th>\n",
       "      <td>1505978.93</td>\n",
       "    </tr>\n",
       "    <tr>\n",
       "      <th>Sunday</th>\n",
       "      <td>1511875.29</td>\n",
       "    </tr>\n",
       "    <tr>\n",
       "      <th>Thursday</th>\n",
       "      <td>1519585.28</td>\n",
       "    </tr>\n",
       "    <tr>\n",
       "      <th>Saturday</th>\n",
       "      <td>1563768.77</td>\n",
       "    </tr>\n",
       "    <tr>\n",
       "      <th>Wednesday</th>\n",
       "      <td>1598296.92</td>\n",
       "    </tr>\n",
       "  </tbody>\n",
       "</table>\n",
       "</div>"
      ],
      "text/plain": [
       "                profit_per_weekday\n",
       "trans_week_day                    \n",
       "Monday                  1499106.68\n",
       "Friday                  1504791.79\n",
       "Tuesday                 1505978.93\n",
       "Sunday                  1511875.29\n",
       "Thursday                1519585.28\n",
       "Saturday                1563768.77\n",
       "Wednesday               1598296.92"
      ]
     },
     "execution_count": 280,
     "metadata": {},
     "output_type": "execute_result"
    }
   ],
   "source": [
    "result = analyze_df[['trans_week_day', 'trans_profit']].groupby('trans_week_day').sum().rename(mapper={'trans_profit': 'profit_per_weekday'}, \n",
    "                                                                                        axis=1).sort_values('profit_per_weekday')\n",
    "result"
   ]
  },
  {
   "cell_type": "code",
   "execution_count": 283,
   "metadata": {},
   "outputs": [
    {
     "data": {
      "image/png": "[encoded data removed]",
      "text/plain": [
       "<Figure size 432x288 with 1 Axes>"
      ]
     },
     "metadata": {
      "needs_background": "light"
     },
     "output_type": "display_data"
    }
   ],
   "source": [
    "sns.lineplot(x=result.index, y=result['profit_per_weekday'])\n",
    "plt.title('Profit per Weekday'), plt.xticks(rotation=90)\n",
    "plt.show()"
   ]
  },
  {
   "cell_type": "markdown",
   "metadata": {},
   "source": [
    "<b>NOTE: <br></b>\n",
    "    The best day for <b>sales</b> was <b>Wednesday</b><br>\n",
    "    The most-profitable day was <b>Wednesday</b><br>\n",
    "    The worst day for <b>sales</b> was <b>Thursday</b><br>\n",
    "    And the least-profitable day was <b>Monday</b>"
   ]
  },
  {
   "cell_type": "code",
   "execution_count": 284,
   "metadata": {},
   "outputs": [
    {
     "data": {
      "text/plain": [
       "Index(['customer_id', 'first_name', 'last_name', 'gender', 'address',\n",
       "       'postcode', 'state', 'DOB', 'job_title', 'job_industry_category',\n",
       "       'wealth_segment', 'owns_car', 'tenure', 'age', 'property_valuation',\n",
       "       'past_3_years_bike_related_purchases', 'product_id', 'transaction_date',\n",
       "       'online_order', 'brand', 'product_line', 'product_class',\n",
       "       'product_size', 'product_first_sold_date', 'trans_week_day',\n",
       "       'trans_day_num', 'trans_month_num', 'trans_month', 'trans_year',\n",
       "       'standard_cost', 'list_price', 'trans_profit'],\n",
       "      dtype='object')"
      ]
     },
     "execution_count": 284,
     "metadata": {},
     "output_type": "execute_result"
    }
   ],
   "source": [
    "analyze_df.columns"
   ]
  },
  {
   "cell_type": "markdown",
   "metadata": {},
   "source": [
    "#### Profit made from each product_line"
   ]
  },
  {
   "cell_type": "code",
   "execution_count": 285,
   "metadata": {},
   "outputs": [
    {
     "data": {
      "text/html": [
       "<div>\n",
       "<style scoped>\n",
       "    .dataframe tbody tr th:only-of-type {\n",
       "        vertical-align: middle;\n",
       "    }\n",
       "\n",
       "    .dataframe tbody tr th {\n",
       "        vertical-align: top;\n",
       "    }\n",
       "\n",
       "    .dataframe thead th {\n",
       "        text-align: right;\n",
       "    }\n",
       "</style>\n",
       "<table border=\"1\" class=\"dataframe\">\n",
       "  <thead>\n",
       "    <tr style=\"text-align: right;\">\n",
       "      <th></th>\n",
       "      <th>total_profit</th>\n",
       "    </tr>\n",
       "    <tr>\n",
       "      <th>product_line</th>\n",
       "      <th></th>\n",
       "    </tr>\n",
       "  </thead>\n",
       "  <tbody>\n",
       "    <tr>\n",
       "      <th>Mountain</th>\n",
       "      <td>39825.99</td>\n",
       "    </tr>\n",
       "    <tr>\n",
       "      <th>Touring</th>\n",
       "      <td>1317869.29</td>\n",
       "    </tr>\n",
       "    <tr>\n",
       "      <th>Road</th>\n",
       "      <td>1372163.86</td>\n",
       "    </tr>\n",
       "    <tr>\n",
       "      <th>Standard</th>\n",
       "      <td>7973544.52</td>\n",
       "    </tr>\n",
       "  </tbody>\n",
       "</table>\n",
       "</div>"
      ],
      "text/plain": [
       "              total_profit\n",
       "product_line              \n",
       "Mountain          39825.99\n",
       "Touring         1317869.29\n",
       "Road            1372163.86\n",
       "Standard        7973544.52"
      ]
     },
     "execution_count": 285,
     "metadata": {},
     "output_type": "execute_result"
    }
   ],
   "source": [
    "result = analyze_df[['product_line', 'trans_profit']].groupby(['product_line']).sum().sort_values('trans_profit').rename(mapper={'trans_profit': 'total_profit'},\n",
    "                                                                                                            axis=1)\n",
    "result"
   ]
  },
  {
   "cell_type": "code",
   "execution_count": 286,
   "metadata": {},
   "outputs": [
    {
     "data": {
      "image/png": "[encoded data removed]",
      "text/plain": [
       "<Figure size 432x288 with 1 Axes>"
      ]
     },
     "metadata": {
      "needs_background": "light"
     },
     "output_type": "display_data"
    }
   ],
   "source": [
    "sns.lineplot(x=result.index, y=result['total_profit'])\n",
    "plt.xticks(rotation=90)\n",
    "plt.title('Profit per product line');"
   ]
  },
  {
   "cell_type": "markdown",
   "metadata": {},
   "source": [
    "#### Sales per product_line"
   ]
  },
  {
   "cell_type": "code",
   "execution_count": 287,
   "metadata": {},
   "outputs": [
    {
     "data": {
      "text/plain": [
       "Mountain      413\n",
       "Touring      1206\n",
       "Road         3887\n",
       "Standard    13903\n",
       "Name: sales_vol_per_productline, dtype: int64"
      ]
     },
     "execution_count": 287,
     "metadata": {},
     "output_type": "execute_result"
    }
   ],
   "source": [
    "result = analyze_df['product_line'].value_counts().sort_values()\n",
    "result.name = 'sales_vol_per_productline'\n",
    "result"
   ]
  },
  {
   "cell_type": "code",
   "execution_count": 288,
   "metadata": {},
   "outputs": [
    {
     "data": {
      "image/png": "[encoded data removed]",
      "text/plain": [
       "<Figure size 432x288 with 1 Axes>"
      ]
     },
     "metadata": {
      "needs_background": "light"
     },
     "output_type": "display_data"
    }
   ],
   "source": [
    "sns.lineplot(x=result.index, y=result)\n",
    "plt.xticks(rotation=90)\n",
    "plt.title('Sales Volume per product line');"
   ]
  },
  {
   "cell_type": "markdown",
   "metadata": {},
   "source": [
    "<b>NOTE:<br></b>\n",
    "    The <b>best-selling</b> product_line is also <b>most-profitable: Standard<br></b>\n",
    "    And the <b>worst-selling</b> product_line is also the <b>least_profitable: Mountain</b>"
   ]
  },
  {
   "cell_type": "code",
   "execution_count": 289,
   "metadata": {
    "scrolled": true
   },
   "outputs": [
    {
     "data": {
      "text/plain": [
       "Index(['customer_id', 'first_name', 'last_name', 'gender', 'address',\n",
       "       'postcode', 'state', 'DOB', 'job_title', 'job_industry_category',\n",
       "       'wealth_segment', 'owns_car', 'tenure', 'age', 'property_valuation',\n",
       "       'past_3_years_bike_related_purchases', 'product_id', 'transaction_date',\n",
       "       'online_order', 'brand', 'product_line', 'product_class',\n",
       "       'product_size', 'product_first_sold_date', 'trans_week_day',\n",
       "       'trans_day_num', 'trans_month_num', 'trans_month', 'trans_year',\n",
       "       'standard_cost', 'list_price', 'trans_profit'],\n",
       "      dtype='object')"
      ]
     },
     "execution_count": 289,
     "metadata": {},
     "output_type": "execute_result"
    }
   ],
   "source": [
    "analyze_df.columns"
   ]
  },
  {
   "cell_type": "markdown",
   "metadata": {},
   "source": [
    "#### SAVE JUPYTER NOTEBOOK TO SYSTEM"
   ]
  },
  {
   "cell_type": "code",
   "execution_count": null,
   "metadata": {
    "scrolled": true
   },
   "outputs": [],
   "source": [
    "pth = 'C:\\\\Users\\\\welcome'\n",
    "sf = mf.file_search(pth, 'KPMG', 'ipynb')\n",
    "sf.keys()"
   ]
  },
  {
   "cell_type": "code",
   "execution_count": null,
   "metadata": {},
   "outputs": [],
   "source": [
    "stop here"
   ]
  },
  {
   "cell_type": "code",
   "execution_count": 291,
   "metadata": {},
   "outputs": [],
   "source": [
    "import shutil"
   ]
  },
  {
   "cell_type": "code",
   "execution_count": 292,
   "metadata": {},
   "outputs": [
    {
     "ename": "KeyError",
     "evalue": "'KPMG-visualization-analysis.ipynb'",
     "output_type": "error",
     "traceback": [
      "\u001b[1;31m---------------------------------------------------------------------------\u001b[0m",
      "\u001b[1;31mKeyError\u001b[0m                                  Traceback (most recent call last)",
      "\u001b[1;32m<ipython-input-292-26601efec039>\u001b[0m in \u001b[0;36m<module>\u001b[1;34m\u001b[0m\n\u001b[0;32m      1\u001b[0m \u001b[1;31m# joblib.os.listdir(\"W:\\\\Analyst & Business Skillset\\\\Data analysis\\\\Datasets\\\\KPMG Raw Datasets\")\u001b[0m\u001b[1;33m\u001b[0m\u001b[1;33m\u001b[0m\u001b[1;33m\u001b[0m\u001b[0m\n\u001b[0;32m      2\u001b[0m \u001b[0mdest\u001b[0m \u001b[1;33m=\u001b[0m \u001b[1;34m\"W:\\\\Analyst & Business Skillset\\\\Data analysis\\\\Datasets\\\\KPMG Raw Datasets\\\\\"\u001b[0m\u001b[1;33m\u001b[0m\u001b[1;33m\u001b[0m\u001b[0m\n\u001b[1;32m----> 3\u001b[1;33m \u001b[0mshutil\u001b[0m\u001b[1;33m.\u001b[0m\u001b[0mcopy\u001b[0m\u001b[1;33m(\u001b[0m\u001b[0msf\u001b[0m\u001b[1;33m[\u001b[0m\u001b[1;34m'KPMG-visualization-analysis.ipynb'\u001b[0m\u001b[1;33m]\u001b[0m\u001b[1;33m,\u001b[0m \u001b[0mdest\u001b[0m\u001b[1;33m)\u001b[0m\u001b[1;33m\u001b[0m\u001b[1;33m\u001b[0m\u001b[0m\n\u001b[0m",
      "\u001b[1;31mKeyError\u001b[0m: 'KPMG-visualization-analysis.ipynb'"
     ]
    }
   ],
   "source": [
    "# joblib.os.listdir(\"W:\\\\Analyst & Business Skillset\\\\Data analysis\\\\Datasets\\\\KPMG Raw Datasets\")\n",
    "dest = \"W:\\\\Analyst & Business Skillset\\\\Data analysis\\\\Datasets\\\\KPMG Raw Datasets\\\\\"\n",
    "shutil.copy(sf['KPMG-visualization-analysis.ipynb'], dest)"
   ]
  },
  {
   "cell_type": "markdown",
   "metadata": {},
   "source": [
    "## --- THE END ---"
   ]
  }
 ],
 "metadata": {
  "kernelspec": {
   "display_name": "Python 3",
   "language": "python",
   "name": "python3"
  },
  "language_info": {
   "codemirror_mode": {
    "name": "ipython",
    "version": 3
   },
   "file_extension": ".py",
   "mimetype": "text/x-python",
   "name": "python",
   "nbconvert_exporter": "python",
   "pygments_lexer": "ipython3",
   "version": "3.8.3"
  }
 },
 "nbformat": 4,
 "nbformat_minor": 4
}
